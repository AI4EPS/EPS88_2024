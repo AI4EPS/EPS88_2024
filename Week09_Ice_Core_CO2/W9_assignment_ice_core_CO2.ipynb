{
 "cells": [
  {
   "cell_type": "markdown",
   "metadata": {},
   "source": [
    "# The rate of change of atmospheric CO$_2$"
   ]
  },
  {
   "cell_type": "code",
   "execution_count": 1,
   "metadata": {},
   "outputs": [],
   "source": [
    "import pandas as pd\n",
    "import numpy as np\n",
    "import matplotlib.pyplot as plt\n",
    "from scipy.stats import stats"
   ]
  },
  {
   "cell_type": "markdown",
   "metadata": {},
   "source": [
    "## Import the Mauna Loa annual mean data"
   ]
  },
  {
   "cell_type": "code",
   "execution_count": 2,
   "metadata": {},
   "outputs": [
    {
     "data": {
      "text/html": [
       "<div>\n",
       "<style scoped>\n",
       "    .dataframe tbody tr th:only-of-type {\n",
       "        vertical-align: middle;\n",
       "    }\n",
       "\n",
       "    .dataframe tbody tr th {\n",
       "        vertical-align: top;\n",
       "    }\n",
       "\n",
       "    .dataframe thead th {\n",
       "        text-align: right;\n",
       "    }\n",
       "</style>\n",
       "<table border=\"1\" class=\"dataframe\">\n",
       "  <thead>\n",
       "    <tr style=\"text-align: right;\">\n",
       "      <th></th>\n",
       "      <th>year</th>\n",
       "      <th>mean</th>\n",
       "      <th>unc</th>\n",
       "    </tr>\n",
       "  </thead>\n",
       "  <tbody>\n",
       "    <tr>\n",
       "      <th>0</th>\n",
       "      <td>1959</td>\n",
       "      <td>315.98</td>\n",
       "      <td>0.12</td>\n",
       "    </tr>\n",
       "    <tr>\n",
       "      <th>1</th>\n",
       "      <td>1960</td>\n",
       "      <td>316.91</td>\n",
       "      <td>0.12</td>\n",
       "    </tr>\n",
       "    <tr>\n",
       "      <th>2</th>\n",
       "      <td>1961</td>\n",
       "      <td>317.64</td>\n",
       "      <td>0.12</td>\n",
       "    </tr>\n",
       "    <tr>\n",
       "      <th>3</th>\n",
       "      <td>1962</td>\n",
       "      <td>318.45</td>\n",
       "      <td>0.12</td>\n",
       "    </tr>\n",
       "    <tr>\n",
       "      <th>4</th>\n",
       "      <td>1963</td>\n",
       "      <td>318.99</td>\n",
       "      <td>0.12</td>\n",
       "    </tr>\n",
       "  </tbody>\n",
       "</table>\n",
       "</div>"
      ],
      "text/plain": [
       "   year    mean   unc\n",
       "0  1959  315.98  0.12\n",
       "1  1960  316.91  0.12\n",
       "2  1961  317.64  0.12\n",
       "3  1962  318.45  0.12\n",
       "4  1963  318.99  0.12"
      ]
     },
     "execution_count": 2,
     "metadata": {},
     "output_type": "execute_result"
    }
   ],
   "source": [
    "mauna_loa_data_url = 'https://gml.noaa.gov/webdata/ccgg/trends/co2/co2_annmean_mlo.csv'\n",
    "\n",
    "mauna_loa_co2 = pd.read_csv(mauna_loa_data_url, comment = '#')\n",
    "\n",
    "mauna_loa_co2.head()"
   ]
  },
  {
   "cell_type": "markdown",
   "metadata": {},
   "source": [
    "## Calculate the rate of change\n",
    "\n",
    "We seek to address the question \"what is the rate of change of the Mauna Loa CO$_2$ data?\"\n",
    "\n",
    "### Year to year rate of change\n",
    "\n",
    "One approach is to calculate this value directly from the data. The code below goes through each row of the data frame and subtracts the value in the next row from the value in the current row to get the change from one year to the next. "
   ]
  },
  {
   "cell_type": "code",
   "execution_count": 3,
   "metadata": {},
   "outputs": [],
   "source": [
    "mauna_loa_co2['change_rate'] = np.zeros(len(mauna_loa_co2))\n",
    "\n",
    "for i in range(0,len(mauna_loa_co2)-1):\n",
    "    CO2_difference = mauna_loa_co2['mean'][i+1] - mauna_loa_co2['mean'][i]\n",
    "    time_difference = mauna_loa_co2['year'][i+1] - mauna_loa_co2['year'][i]\n",
    "    mauna_loa_co2.at[i,'change_rate'] = CO2_difference/time_difference"
   ]
  },
  {
   "cell_type": "code",
   "execution_count": 4,
   "metadata": {},
   "outputs": [
    {
     "data": {
      "image/png": "[encoded data removed]",
      "text/plain": [
       "<Figure size 576x432 with 2 Axes>"
      ]
     },
     "metadata": {
      "needs_background": "light"
     },
     "output_type": "display_data"
    }
   ],
   "source": [
    "plt.figure(figsize=(8,6))\n",
    "plt.subplot(2,1,1)\n",
    "plt.scatter(mauna_loa_co2['year'],mauna_loa_co2['mean'],\n",
    "            label='Mauna Loa pCO$_2$')\n",
    "plt.ylabel('CO$_2$ (ppm)')\n",
    "plt.subplot(2,1,2)\n",
    "plt.scatter(mauna_loa_co2['year'][:-1],mauna_loa_co2['change_rate'][:-1],label='Mauna Loa pCO$_2$')\n",
    "plt.ylabel('dCO$_2$/dt (ppm/year)')\n",
    "plt.xlabel('year')\n",
    "plt.tight_layout()"
   ]
  },
  {
   "cell_type": "markdown",
   "metadata": {},
   "source": [
    "This approach is arguably the most direct, but it is also suffers from being prone to noise. Uncertainty in the measurement or variability in the process is amplified.\n",
    "\n",
    "### Linear regression\n",
    "\n",
    "In your last assignment you applied a linear regression to the Mauna Loa CO$_2$. Go ahead and and fit a linear regression to the last 20 years of data. The slope of this linear regression is the rate of change (dCO$_2$/dt in ppm/year).\n",
    "\n",
    "```\n",
    "stats.linregress(co2_last_20yrs['year'],co2_last_20yrs['mean_co2'])\n",
    "```\n",
    "\n",
    "Do the linear regression and plot it with the data (**3 points**)"
   ]
  },
  {
   "cell_type": "code",
   "execution_count": null,
   "metadata": {},
   "outputs": [],
   "source": []
  },
  {
   "cell_type": "markdown",
   "metadata": {},
   "source": [
    "What is the value for the slope? How does this compare to the estimate you could get through looking at the year to year rate of change? Do you think this approach is a better or worse way to estimate the trend? Why? (**3 points**)\n",
    "\n",
    "*write your answer here*"
   ]
  },
  {
   "cell_type": "markdown",
   "metadata": {},
   "source": [
    "### Locally weighted regression\n",
    "\n",
    "It would be nice to be able to fit a smooth curve through the data, but not make a lot of assumptions about what the functional form of the data it. That is, it could be preferable not to assume that the data are going to be well-represented by a 1st or 2nd order polynomial like we did for last weeks assignment. One approach that can be taken is to apply Locally Weighted Scatterplot Smoothing (LOWESS).\n",
    "\n",
    "Here is a slightly irritating, but informative video that explains locally-weighted regression. Go ahead and watch it:\n",
    "\n",
    "https://www.youtube.com/watch?v=Vf7oJ6z2LCc\n",
    "\n",
    "The example code below is slightly modified from the documentation of the Python module statsmodels: https://www.statsmodels.org/dev/generated/statsmodels.nonparametric.smoothers_lowess.lowess.html\n",
    "In this code, noisy data associated with a sine curve are simulated. The ```nonparametric.lowess``` function is then applied to the data using two different fractions of the data (i.e. how much of the data is considered by the local weighting).\n",
    "\n",
    "*Note that the ```lowess``` function returns a two column numpy array. The x-values are the first column and the y-values are the second column. They are accessed using the [:,0] notation that can be applied to numpy arrays.*"
   ]
  },
  {
   "cell_type": "code",
   "execution_count": 5,
   "metadata": {},
   "outputs": [
    {
     "data": {
      "image/png": "[encoded data removed]",
      "text/plain": [
       "<Figure size 432x288 with 1 Axes>"
      ]
     },
     "metadata": {
      "needs_background": "light"
     },
     "output_type": "display_data"
    }
   ],
   "source": [
    "import statsmodels.api as sm\n",
    "\n",
    "lowess = sm.nonparametric.lowess\n",
    "x = np.random.uniform(low = -2*np.pi, high = 2*np.pi, size=500)\n",
    "y = np.sin(x) + np.random.normal(size=len(x))\n",
    "z = lowess(y, x, frac=0.66)\n",
    "w = lowess(y, x, frac=0.33)\n",
    "\n",
    "plt.scatter(x,y,color='grey',label='raw data')\n",
    "plt.plot(z[:,0],z[:,1],label='LOWESS (frac=0.66)')\n",
    "plt.plot(w[:,0],w[:,1],label='LOWESS (frac=0.33)')\n",
    "plt.legend()\n",
    "plt.show()"
   ]
  },
  {
   "cell_type": "markdown",
   "metadata": {},
   "source": [
    "### Use the LOWESS function to fit curves to the Mauna Loa data (2 points)\n",
    "\n",
    "Note that the arguments to the function need to be the y-values of the observed pointsmfirst and then the x-values of the observed points (which is kind of counter intuitive).\n",
    "\n",
    "```\n",
    "lowess(mauna_loa_co2['mean'],mauna_loa_co2['year'])\n",
    "```\n",
    "\n",
    "Calculate, plot, and label three different LOWESS regressions using three different ```frac``` values (**6 points**)"
   ]
  },
  {
   "cell_type": "code",
   "execution_count": null,
   "metadata": {},
   "outputs": [],
   "source": []
  },
  {
   "cell_type": "markdown",
   "metadata": {},
   "source": [
    "Of the different frac values that you explored using, which one do you think is best for the data (**1 point**)\n",
    "\n",
    "*write your answer here*"
   ]
  },
  {
   "cell_type": "markdown",
   "metadata": {},
   "source": [
    "### Calculate the rate of change from the LOWESS curve\n",
    "\n",
    "You can calculate a rate of change from the smoothed LOWESS curves. For example, if one has calculated a LOWESS and called it `mauna_loa_lowess2`, the following code will calculate the change between each year on the smoothed curve."
   ]
  },
  {
   "cell_type": "code",
   "execution_count": null,
   "metadata": {},
   "outputs": [],
   "source": [
    "LOWESS_change_rate = []\n",
    "\n",
    "for n in range(0,len(mauna_loa_lowess2)-1):\n",
    "    co2_change = mauna_loa_lowess2[n+1][1]-mauna_loa_lowess2[n][1]\n",
    "    year_change = mauna_loa_lowess2[n+1][0]-mauna_loa_lowess2[n][0]\n",
    "    LOWESS_change_rate.append(co2_change/year_change)\n",
    "    \n",
    "plt.plot(mauna_loa_lowess2[:,0][:-1],LOWESS_change_rate,label='LOWESS (frac=0.4)')\n",
    "plt.ylabel('dCO$_2$/dt (ppm/year)')\n",
    "plt.xlabel('year')\n",
    "plt.show()"
   ]
  },
  {
   "cell_type": "markdown",
   "metadata": {},
   "source": [
    "### Make these calculations of the change rate and plot the result for three different LOWESS fits with different `frac` values (3 points)"
   ]
  },
  {
   "cell_type": "code",
   "execution_count": null,
   "metadata": {},
   "outputs": [],
   "source": []
  },
  {
   "cell_type": "markdown",
   "metadata": {},
   "source": [
    "Using this approach, what would you say the rate of CO$_2$ increase has been over the past 10 years in ppm/year? (**1 point**)\n",
    "\n",
    "*write your answer here*"
   ]
  },
  {
   "cell_type": "markdown",
   "metadata": {},
   "source": [
    "## Ice core data\n",
    "\n",
    "Let's import the ice core data."
   ]
  },
  {
   "cell_type": "code",
   "execution_count": 9,
   "metadata": {},
   "outputs": [
    {
     "data": {
      "text/html": [
       "<div>\n",
       "<style scoped>\n",
       "    .dataframe tbody tr th:only-of-type {\n",
       "        vertical-align: middle;\n",
       "    }\n",
       "\n",
       "    .dataframe tbody tr th {\n",
       "        vertical-align: top;\n",
       "    }\n",
       "\n",
       "    .dataframe thead th {\n",
       "        text-align: right;\n",
       "    }\n",
       "</style>\n",
       "<table border=\"1\" class=\"dataframe\">\n",
       "  <thead>\n",
       "    <tr style=\"text-align: right;\">\n",
       "      <th></th>\n",
       "      <th>age_gas_calBP</th>\n",
       "      <th>co2_ppm</th>\n",
       "      <th>co2_1s_ppm</th>\n",
       "    </tr>\n",
       "  </thead>\n",
       "  <tbody>\n",
       "    <tr>\n",
       "      <th>0</th>\n",
       "      <td>-51.03</td>\n",
       "      <td>368.02</td>\n",
       "      <td>0.06</td>\n",
       "    </tr>\n",
       "    <tr>\n",
       "      <th>1</th>\n",
       "      <td>-48.00</td>\n",
       "      <td>361.78</td>\n",
       "      <td>0.37</td>\n",
       "    </tr>\n",
       "    <tr>\n",
       "      <th>2</th>\n",
       "      <td>-46.28</td>\n",
       "      <td>359.65</td>\n",
       "      <td>0.10</td>\n",
       "    </tr>\n",
       "    <tr>\n",
       "      <th>3</th>\n",
       "      <td>-44.41</td>\n",
       "      <td>357.11</td>\n",
       "      <td>0.16</td>\n",
       "    </tr>\n",
       "    <tr>\n",
       "      <th>4</th>\n",
       "      <td>-43.08</td>\n",
       "      <td>353.95</td>\n",
       "      <td>0.04</td>\n",
       "    </tr>\n",
       "  </tbody>\n",
       "</table>\n",
       "</div>"
      ],
      "text/plain": [
       "   age_gas_calBP  co2_ppm  co2_1s_ppm\n",
       "0         -51.03   368.02        0.06\n",
       "1         -48.00   361.78        0.37\n",
       "2         -46.28   359.65        0.10\n",
       "3         -44.41   357.11        0.16\n",
       "4         -43.08   353.95        0.04"
      ]
     },
     "execution_count": 9,
     "metadata": {},
     "output_type": "execute_result"
    }
   ],
   "source": [
    "ice_core_data_url = 'https://www.ncei.noaa.gov/pub/data/paleo/icecore/antarctica/antarctica2015co2composite.txt'\n",
    "\n",
    "ice_core_co2 = pd.read_table(ice_core_data_url, comment='#')\n",
    "ice_core_co2.head()"
   ]
  },
  {
   "cell_type": "markdown",
   "metadata": {},
   "source": [
    "We can convert the age into the same calendar year timescale as the Mauna Loa data. The data set goes back to more than 800,000 years ago which is expressed in the calculated year column as a negative number where the negative number represents the years before the common era."
   ]
  },
  {
   "cell_type": "code",
   "execution_count": 10,
   "metadata": {},
   "outputs": [
    {
     "data": {
      "text/html": [
       "<div>\n",
       "<style scoped>\n",
       "    .dataframe tbody tr th:only-of-type {\n",
       "        vertical-align: middle;\n",
       "    }\n",
       "\n",
       "    .dataframe tbody tr th {\n",
       "        vertical-align: top;\n",
       "    }\n",
       "\n",
       "    .dataframe thead th {\n",
       "        text-align: right;\n",
       "    }\n",
       "</style>\n",
       "<table border=\"1\" class=\"dataframe\">\n",
       "  <thead>\n",
       "    <tr style=\"text-align: right;\">\n",
       "      <th></th>\n",
       "      <th>age_gas_calBP</th>\n",
       "      <th>co2_ppm</th>\n",
       "      <th>co2_1s_ppm</th>\n",
       "      <th>year</th>\n",
       "    </tr>\n",
       "  </thead>\n",
       "  <tbody>\n",
       "    <tr>\n",
       "      <th>0</th>\n",
       "      <td>-51.03</td>\n",
       "      <td>368.02</td>\n",
       "      <td>0.06</td>\n",
       "      <td>2001.03</td>\n",
       "    </tr>\n",
       "    <tr>\n",
       "      <th>1</th>\n",
       "      <td>-48.00</td>\n",
       "      <td>361.78</td>\n",
       "      <td>0.37</td>\n",
       "      <td>1998.00</td>\n",
       "    </tr>\n",
       "    <tr>\n",
       "      <th>2</th>\n",
       "      <td>-46.28</td>\n",
       "      <td>359.65</td>\n",
       "      <td>0.10</td>\n",
       "      <td>1996.28</td>\n",
       "    </tr>\n",
       "    <tr>\n",
       "      <th>3</th>\n",
       "      <td>-44.41</td>\n",
       "      <td>357.11</td>\n",
       "      <td>0.16</td>\n",
       "      <td>1994.41</td>\n",
       "    </tr>\n",
       "    <tr>\n",
       "      <th>4</th>\n",
       "      <td>-43.08</td>\n",
       "      <td>353.95</td>\n",
       "      <td>0.04</td>\n",
       "      <td>1993.08</td>\n",
       "    </tr>\n",
       "  </tbody>\n",
       "</table>\n",
       "</div>"
      ],
      "text/plain": [
       "   age_gas_calBP  co2_ppm  co2_1s_ppm     year\n",
       "0         -51.03   368.02        0.06  2001.03\n",
       "1         -48.00   361.78        0.37  1998.00\n",
       "2         -46.28   359.65        0.10  1996.28\n",
       "3         -44.41   357.11        0.16  1994.41\n",
       "4         -43.08   353.95        0.04  1993.08"
      ]
     },
     "execution_count": 10,
     "metadata": {},
     "output_type": "execute_result"
    }
   ],
   "source": [
    "ice_core_co2['year'] = -(ice_core_co2['age_gas_calBP'] - 1950)\n",
    "ice_core_co2.head()"
   ]
  },
  {
   "cell_type": "code",
   "execution_count": 7,
   "metadata": {},
   "outputs": [
    {
     "data": {
      "image/png": "[encoded data removed]",
      "text/plain": [
       "<Figure size 576x432 with 1 Axes>"
      ]
     },
     "metadata": {
      "needs_background": "light"
     },
     "output_type": "display_data"
    }
   ],
   "source": [
    "plt.figure(figsize=(8,6))\n",
    "plt.scatter(ice_core_co2['year'],ice_core_co2['co2_ppm'])\n",
    "plt.ylabel('CO$_2$ (ppm)')\n",
    "plt.xlabel('year')\n",
    "plt.tight_layout()\n",
    "plt.show()"
   ]
  },
  {
   "cell_type": "markdown",
   "metadata": {},
   "source": [
    "Looking at this record we can see that there have been numerous times when CO$_2$ has increased and decreased over the past 800,000 years (the glacial-interglacial cycles). Let's consider the last two times that there has been a natural increase in CO$_2$ that which occurred from year -16000 to -9000 (coming out of the last glacial maximum) and that which occurred from year -135000 to -125000.\n",
    "\n",
    "Plot the ice core CO$_2$ data over both of these intervals of CO$_2$ change. (**2 points**)\n",
    "\n",
    "Estimate the rate of change for each using:\n",
    "- rate of change calculations made through subtraction as was done above for the Mauna Loa data (**3 points**)\n",
    "- linear regression where the slope is analyzed (**3 points**)\n",
    "- LOWESS regression followed by rate of change analysis (**3 points**)"
   ]
  },
  {
   "cell_type": "code",
   "execution_count": null,
   "metadata": {},
   "outputs": [],
   "source": []
  },
  {
   "cell_type": "code",
   "execution_count": null,
   "metadata": {},
   "outputs": [],
   "source": []
  },
  {
   "cell_type": "code",
   "execution_count": null,
   "metadata": {},
   "outputs": [],
   "source": []
  },
  {
   "cell_type": "code",
   "execution_count": null,
   "metadata": {},
   "outputs": [],
   "source": []
  },
  {
   "cell_type": "code",
   "execution_count": null,
   "metadata": {},
   "outputs": [],
   "source": []
  },
  {
   "cell_type": "code",
   "execution_count": null,
   "metadata": {},
   "outputs": [],
   "source": []
  },
  {
   "cell_type": "code",
   "execution_count": null,
   "metadata": {},
   "outputs": [],
   "source": []
  },
  {
   "cell_type": "code",
   "execution_count": null,
   "metadata": {},
   "outputs": [],
   "source": []
  },
  {
   "cell_type": "markdown",
   "metadata": {},
   "source": [
    "How do these rates of change estimated from the ice core data compare to the modern-day rate of CO$_2$ change? (**2 points**)\n",
    "\n",
    "*write your answer here*"
   ]
  }
 ],
 "metadata": {
  "kernelspec": {
   "display_name": "Python 3 (ipykernel)",
   "language": "python",
   "name": "python3"
  },
  "language_info": {
   "codemirror_mode": {
    "name": "ipython",
    "version": 3
   },
   "file_extension": ".py",
   "mimetype": "text/x-python",
   "name": "python",
   "nbconvert_exporter": "python",
   "pygments_lexer": "ipython3",
   "version": "3.9.12"
  }
 },
 "nbformat": 4,
 "nbformat_minor": 4
}
