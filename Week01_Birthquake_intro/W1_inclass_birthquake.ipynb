{
 "cells": [
  {
   "cell_type": "markdown",
   "metadata": {},
   "source": [
    "# Welcome to EPS 88\n",
    "\n",
    "This cell is Markdown text. It is the cell type where we can type text that isn't code. Go ahead and double click in this cell and you will see that you can edit it. **Type something here:**"
   ]
  },
  {
   "attachments": {},
   "cell_type": "markdown",
   "metadata": {},
   "source": [
    "Let's get going right away by dealing with some data within this Jupyter notebook. The first bit of code you will run is in the cell below. This is a code cell rather than a markdown cell (you can change the cell type using the drop-down box above). You can either hit the play button above, or more efficiently press *shift+enter* on your keyboard to run the code."
   ]
  },
  {
   "cell_type": "code",
   "execution_count": 1,
   "metadata": {},
   "outputs": [],
   "source": [
    "#This cell is a code cell. It is where we can type code that can be executed.\n",
    "#The hashtag at the start of this line makes it so that this text is a comment not code. \n",
    "\n",
    "import pandas as pd\n",
    "pd.set_option('display.max_columns', None)"
   ]
  },
  {
   "cell_type": "markdown",
   "metadata": {},
   "source": [
    "The reason why we execute the code ```import pandas as pd``` is so that we can use the functions of the ```pandas``` library which provides really helpful data structures and data analysis tools. We are using the standard convention of importing it using the nickname ```pd```. One of the fantastic things about doing data analysis in Python is the availability of great data analysis tools such as ```pandas```. One of the frustrating things can be learning how to use these diverse tools and which to use when. You will get more and more comfortable with these tools as the term progresses."
   ]
  },
  {
   "cell_type": "markdown",
   "metadata": {},
   "source": [
    "# Finding Birthquakes\n",
    "\n",
    "Your birthquake is the largest magnitude earthquake that occured on the day you were born. In this in-class exercise, we are going to search an earthquake catalog and find your birthquake.\n",
    "\n",
    "To do so, we can going to download data from the US Geological Survey (USGS) Earthquake Hazards program. https://earthquake.usgs.gov\n",
    "\n",
    "We are going to use an API that lets us send an url to the USGS and get earthquake information for a set of specified parameters. \n",
    "\n",
    "## Finding Nick's birthquake\n",
    "### Enter Nick's birthday\n",
    "\n",
    "Let's do it first for my birthday. We will define my birthday in year-month-day format and the day after my birthday in year-month-day format in order to make a url that gets data starting on 12 am of my birthday and ending 12 am of the next day. We are putting the quote marks (' ') around the dates so that they are **strings** (the python data type that is a sequence of text). "
   ]
  },
  {
   "cell_type": "code",
   "execution_count": 2,
   "metadata": {},
   "outputs": [],
   "source": [
    "Nick_birthday = '1983-01-09'\n",
    "day_after_Nick_birthday = '1983-01-10'"
   ]
  },
  {
   "cell_type": "markdown",
   "metadata": {},
   "source": [
    "What we just did in the code above is to define the variable ```Nick_birthday``` to be set to be the string '1983-01-09'. If we run a code cell with just that variable, Jupyter will show the variable as the code output."
   ]
  },
  {
   "cell_type": "code",
   "execution_count": 3,
   "metadata": {},
   "outputs": [
    {
     "data": {
      "text/plain": [
       "'1983-01-09'"
      ]
     },
     "execution_count": 3,
     "metadata": {},
     "output_type": "execute_result"
    }
   ],
   "source": [
    "Nick_birthday"
   ]
  },
  {
   "cell_type": "markdown",
   "metadata": {},
   "source": [
    "Another way to see the variable is to tell python to print it using the ```print()``` function."
   ]
  },
  {
   "cell_type": "code",
   "execution_count": 4,
   "metadata": {},
   "outputs": [
    {
     "name": "stdout",
     "output_type": "stream",
     "text": [
      "1983-01-09\n"
     ]
    }
   ],
   "source": [
    "print(Nick_birthday)"
   ]
  },
  {
   "attachments": {},
   "cell_type": "markdown",
   "metadata": {},
   "source": [
    "### Defining Nick's birthday earthquake URL\n",
    "\n",
    "To make a url that we can send to the USGS and get back data, we need to insert these dates into the USGS earthquake API url format. API stands fo 'application programming interface' and an API url path provides a way to access data that are available online. A nice thing about using an API url to access data is that it makes code portable and reproducible as the code can grab the data from the internet without needing a local copy.\n",
    "\n",
    "We will define that standard_url as a string and include that we want to get the data as a `csv` with `format=csv` and that we want the data to be in the order of magitude with `&orderby=magnitude`. We can then add the dates that were set above to be the `&starttime` and `&endtime`."
   ]
  },
  {
   "cell_type": "code",
   "execution_count": 5,
   "metadata": {},
   "outputs": [
    {
     "data": {
      "text/plain": [
       "'https://earthquake.usgs.gov/fdsnws/event/1/query?format=csv&orderby=magnitude&starttime=1983-01-09&endtime=1983-01-10'"
      ]
     },
     "execution_count": 5,
     "metadata": {},
     "output_type": "execute_result"
    }
   ],
   "source": [
    "standard_url = 'https://earthquake.usgs.gov/fdsnws/event/1/query?format=csv&orderby=magnitude'\n",
    "\n",
    "Nick_birthquake_url = standard_url + '&starttime=' + Nick_birthday + '&endtime=' + day_after_Nick_birthday\n",
    "\n",
    "Nick_birthquake_url"
   ]
  },
  {
   "cell_type": "markdown",
   "metadata": {},
   "source": [
    "### Getting Nick's birthday earthquakes\n",
    "\n",
    "We now have a url that we can use to get data from the USGS. We could cut and paste this url (without the quotation marks) into a web browser. Go ahead and give that a try.\n",
    "\n",
    "Alternatively, we can use the `pandas` functions that we imported at the top of this notebook to get these data. The standard way to use ```pandas``` is to import it with the shorthand ``pd``. We will use the ```pd.read_csv()``` function which will take the data that comes from the USGS url and make it into a DataFrame. A DataFrame is a data structure with columns of different data that are defined with column names."
   ]
  },
  {
   "cell_type": "code",
   "execution_count": 6,
   "metadata": {},
   "outputs": [],
   "source": [
    "Nick_birthday_earthquakes = pd.read_csv(Nick_birthquake_url)"
   ]
  },
  {
   "cell_type": "markdown",
   "metadata": {},
   "source": [
    "These data are sorted by magnitude with the largest magnitude earthquakes at top. Let's look at the first 5 rows of the DataFrame using the ```.head()``` function."
   ]
  },
  {
   "cell_type": "code",
   "execution_count": 7,
   "metadata": {},
   "outputs": [
    {
     "data": {
      "text/html": [
       "<div>\n",
       "<style scoped>\n",
       "    .dataframe tbody tr th:only-of-type {\n",
       "        vertical-align: middle;\n",
       "    }\n",
       "\n",
       "    .dataframe tbody tr th {\n",
       "        vertical-align: top;\n",
       "    }\n",
       "\n",
       "    .dataframe thead th {\n",
       "        text-align: right;\n",
       "    }\n",
       "</style>\n",
       "<table border=\"1\" class=\"dataframe\">\n",
       "  <thead>\n",
       "    <tr style=\"text-align: right;\">\n",
       "      <th></th>\n",
       "      <th>time</th>\n",
       "      <th>latitude</th>\n",
       "      <th>longitude</th>\n",
       "      <th>depth</th>\n",
       "      <th>mag</th>\n",
       "      <th>magType</th>\n",
       "      <th>nst</th>\n",
       "      <th>gap</th>\n",
       "      <th>dmin</th>\n",
       "      <th>rms</th>\n",
       "      <th>net</th>\n",
       "      <th>id</th>\n",
       "      <th>updated</th>\n",
       "      <th>place</th>\n",
       "      <th>type</th>\n",
       "      <th>horizontalError</th>\n",
       "      <th>depthError</th>\n",
       "      <th>magError</th>\n",
       "      <th>magNst</th>\n",
       "      <th>status</th>\n",
       "      <th>locationSource</th>\n",
       "      <th>magSource</th>\n",
       "    </tr>\n",
       "  </thead>\n",
       "  <tbody>\n",
       "    <tr>\n",
       "      <th>0</th>\n",
       "      <td>1983-01-09T21:03:54.230Z</td>\n",
       "      <td>55.179</td>\n",
       "      <td>163.244</td>\n",
       "      <td>33.0</td>\n",
       "      <td>6.1</td>\n",
       "      <td>ms</td>\n",
       "      <td>NaN</td>\n",
       "      <td>NaN</td>\n",
       "      <td>NaN</td>\n",
       "      <td>1.0</td>\n",
       "      <td>us</td>\n",
       "      <td>usp0001s40</td>\n",
       "      <td>2022-04-28T00:15:30.852Z</td>\n",
       "      <td>126 km SSE of Ust’-Kamchatsk Staryy, Russia</td>\n",
       "      <td>earthquake</td>\n",
       "      <td>NaN</td>\n",
       "      <td>NaN</td>\n",
       "      <td>NaN</td>\n",
       "      <td>12.0</td>\n",
       "      <td>reviewed</td>\n",
       "      <td>us</td>\n",
       "      <td>us</td>\n",
       "    </tr>\n",
       "    <tr>\n",
       "      <th>1</th>\n",
       "      <td>1983-01-09T10:42:47.760Z</td>\n",
       "      <td>55.163</td>\n",
       "      <td>163.125</td>\n",
       "      <td>33.0</td>\n",
       "      <td>5.3</td>\n",
       "      <td>ms</td>\n",
       "      <td>NaN</td>\n",
       "      <td>NaN</td>\n",
       "      <td>NaN</td>\n",
       "      <td>1.0</td>\n",
       "      <td>us</td>\n",
       "      <td>usp0001s3k</td>\n",
       "      <td>2022-04-28T00:15:25.206Z</td>\n",
       "      <td>125 km SSE of Ust’-Kamchatsk Staryy, Russia</td>\n",
       "      <td>earthquake</td>\n",
       "      <td>NaN</td>\n",
       "      <td>NaN</td>\n",
       "      <td>NaN</td>\n",
       "      <td>2.0</td>\n",
       "      <td>reviewed</td>\n",
       "      <td>us</td>\n",
       "      <td>us</td>\n",
       "    </tr>\n",
       "    <tr>\n",
       "      <th>2</th>\n",
       "      <td>1983-01-09T13:24:03.710Z</td>\n",
       "      <td>-56.902</td>\n",
       "      <td>147.557</td>\n",
       "      <td>10.0</td>\n",
       "      <td>5.3</td>\n",
       "      <td>ms</td>\n",
       "      <td>NaN</td>\n",
       "      <td>NaN</td>\n",
       "      <td>NaN</td>\n",
       "      <td>1.4</td>\n",
       "      <td>us</td>\n",
       "      <td>usp0001s3u</td>\n",
       "      <td>2016-11-09T21:37:54.403Z</td>\n",
       "      <td>west of Macquarie Island</td>\n",
       "      <td>earthquake</td>\n",
       "      <td>NaN</td>\n",
       "      <td>NaN</td>\n",
       "      <td>NaN</td>\n",
       "      <td>1.0</td>\n",
       "      <td>reviewed</td>\n",
       "      <td>us</td>\n",
       "      <td>us</td>\n",
       "    </tr>\n",
       "    <tr>\n",
       "      <th>3</th>\n",
       "      <td>1983-01-09T18:36:46.860Z</td>\n",
       "      <td>35.463</td>\n",
       "      <td>140.212</td>\n",
       "      <td>80.9</td>\n",
       "      <td>5.0</td>\n",
       "      <td>mb</td>\n",
       "      <td>NaN</td>\n",
       "      <td>NaN</td>\n",
       "      <td>NaN</td>\n",
       "      <td>1.3</td>\n",
       "      <td>us</td>\n",
       "      <td>usp0001s3x</td>\n",
       "      <td>2014-11-07T00:32:28.092Z</td>\n",
       "      <td>8 km WNW of Mobara, Japan</td>\n",
       "      <td>earthquake</td>\n",
       "      <td>NaN</td>\n",
       "      <td>2.5</td>\n",
       "      <td>NaN</td>\n",
       "      <td>11.0</td>\n",
       "      <td>reviewed</td>\n",
       "      <td>us</td>\n",
       "      <td>us</td>\n",
       "    </tr>\n",
       "    <tr>\n",
       "      <th>4</th>\n",
       "      <td>1983-01-09T05:09:16.830Z</td>\n",
       "      <td>55.138</td>\n",
       "      <td>163.080</td>\n",
       "      <td>33.0</td>\n",
       "      <td>4.9</td>\n",
       "      <td>mb</td>\n",
       "      <td>NaN</td>\n",
       "      <td>NaN</td>\n",
       "      <td>NaN</td>\n",
       "      <td>0.8</td>\n",
       "      <td>us</td>\n",
       "      <td>usp0001s3g</td>\n",
       "      <td>2014-11-07T00:32:28.004Z</td>\n",
       "      <td>127 km SSE of Ust’-Kamchatsk Staryy, Russia</td>\n",
       "      <td>earthquake</td>\n",
       "      <td>NaN</td>\n",
       "      <td>NaN</td>\n",
       "      <td>NaN</td>\n",
       "      <td>12.0</td>\n",
       "      <td>reviewed</td>\n",
       "      <td>us</td>\n",
       "      <td>us</td>\n",
       "    </tr>\n",
       "  </tbody>\n",
       "</table>\n",
       "</div>"
      ],
      "text/plain": [
       "                       time  latitude  longitude  depth  mag magType  nst  \\\n",
       "0  1983-01-09T21:03:54.230Z    55.179    163.244   33.0  6.1      ms  NaN   \n",
       "1  1983-01-09T10:42:47.760Z    55.163    163.125   33.0  5.3      ms  NaN   \n",
       "2  1983-01-09T13:24:03.710Z   -56.902    147.557   10.0  5.3      ms  NaN   \n",
       "3  1983-01-09T18:36:46.860Z    35.463    140.212   80.9  5.0      mb  NaN   \n",
       "4  1983-01-09T05:09:16.830Z    55.138    163.080   33.0  4.9      mb  NaN   \n",
       "\n",
       "   gap  dmin  rms net          id                   updated  \\\n",
       "0  NaN   NaN  1.0  us  usp0001s40  2022-04-28T00:15:30.852Z   \n",
       "1  NaN   NaN  1.0  us  usp0001s3k  2022-04-28T00:15:25.206Z   \n",
       "2  NaN   NaN  1.4  us  usp0001s3u  2016-11-09T21:37:54.403Z   \n",
       "3  NaN   NaN  1.3  us  usp0001s3x  2014-11-07T00:32:28.092Z   \n",
       "4  NaN   NaN  0.8  us  usp0001s3g  2014-11-07T00:32:28.004Z   \n",
       "\n",
       "                                         place        type  horizontalError  \\\n",
       "0  126 km SSE of Ust’-Kamchatsk Staryy, Russia  earthquake              NaN   \n",
       "1  125 km SSE of Ust’-Kamchatsk Staryy, Russia  earthquake              NaN   \n",
       "2                     west of Macquarie Island  earthquake              NaN   \n",
       "3                    8 km WNW of Mobara, Japan  earthquake              NaN   \n",
       "4  127 km SSE of Ust’-Kamchatsk Staryy, Russia  earthquake              NaN   \n",
       "\n",
       "   depthError  magError  magNst    status locationSource magSource  \n",
       "0         NaN       NaN    12.0  reviewed             us        us  \n",
       "1         NaN       NaN     2.0  reviewed             us        us  \n",
       "2         NaN       NaN     1.0  reviewed             us        us  \n",
       "3         2.5       NaN    11.0  reviewed             us        us  \n",
       "4         NaN       NaN    12.0  reviewed             us        us  "
      ]
     },
     "execution_count": 7,
     "metadata": {},
     "output_type": "execute_result"
    }
   ],
   "source": [
    "Nick_birthday_earthquakes.head()"
   ]
  },
  {
   "cell_type": "markdown",
   "metadata": {},
   "source": [
    "We can just look at the first row by applying the ```.loc``` function to the DataFrame and calling the index 0. Python is zero-indexed so the first row is row zero. We can apply .loc to the first row to see all the details about my birthquake."
   ]
  },
  {
   "cell_type": "code",
   "execution_count": null,
   "metadata": {},
   "outputs": [],
   "source": [
    "Nick_birthday_earthquakes.loc[0]"
   ]
  },
  {
   "cell_type": "markdown",
   "metadata": {},
   "source": [
    "It can be useful to return a single value which can be done by calling both the the row and the column using the ```.loc``` function. "
   ]
  },
  {
   "cell_type": "code",
   "execution_count": null,
   "metadata": {},
   "outputs": [],
   "source": [
    "Nick_birthday_earthquakes.loc[0]['mag']"
   ]
  },
  {
   "cell_type": "markdown",
   "metadata": {},
   "source": [
    "When working with Python for this course, you are going to get errors. I get errors most everyday. They can look intimidating, but they often are informative (particularly if you look at the bottom). This code cell below should result in an error. Go ahead and execute it and let's have a look at the result."
   ]
  },
  {
   "cell_type": "code",
   "execution_count": null,
   "metadata": {},
   "outputs": [],
   "source": [
    "Nick_birthday_earthquakes.loc[0]['birthday_cake']"
   ]
  },
  {
   "cell_type": "markdown",
   "metadata": {},
   "source": [
    "#### Nick's birthquake\n",
    "\n",
    "The largest earthquake on the day I was born was a magnitude (column `mag`) 6.1 that occured off the east coast of the Kamchatka Peninsula (column `place`)."
   ]
  },
  {
   "cell_type": "markdown",
   "metadata": {},
   "source": [
    "## Finding your birthquake\n",
    "### Enter your birthday\n",
    "\n",
    "Enter your birthday and the date after in year-mm-dd format."
   ]
  },
  {
   "cell_type": "code",
   "execution_count": 8,
   "metadata": {},
   "outputs": [],
   "source": [
    "### Enter your birthday here within the quotes in year-mm-dd format\n",
    "\n",
    "your_birthday = ''\n",
    "day_after_your_birthday = ''"
   ]
  },
  {
   "cell_type": "code",
   "execution_count": 9,
   "metadata": {},
   "outputs": [
    {
     "data": {
      "text/plain": [
       "'2011-12-27'"
      ]
     },
     "execution_count": 9,
     "metadata": {},
     "output_type": "execute_result"
    }
   ],
   "source": [
    "your_birthday"
   ]
  },
  {
   "cell_type": "markdown",
   "metadata": {},
   "source": [
    "#### Defining your birthday earthquake URL"
   ]
  },
  {
   "cell_type": "code",
   "execution_count": 10,
   "metadata": {},
   "outputs": [
    {
     "data": {
      "text/plain": [
       "'https://earthquake.usgs.gov/fdsnws/event/1/query?format=csv&orderby=magnitude&starttime=2011-12-27&endtime=2011-12-28'"
      ]
     },
     "execution_count": 10,
     "metadata": {},
     "output_type": "execute_result"
    }
   ],
   "source": [
    "standard_url = 'https://earthquake.usgs.gov/fdsnws/event/1/query?format=csv&orderby=magnitude'\n",
    "\n",
    "your_birthquake_url = standard_url + '&starttime=' + your_birthday + '&endtime=' + day_after_your_birthday\n",
    "\n",
    "your_birthquake_url"
   ]
  },
  {
   "cell_type": "markdown",
   "metadata": {},
   "source": [
    "#### Getting your birthday earthquakes"
   ]
  },
  {
   "cell_type": "code",
   "execution_count": 11,
   "metadata": {},
   "outputs": [],
   "source": [
    "your_birthday_earthquakes = pd.read_csv(your_birthquake_url)"
   ]
  },
  {
   "cell_type": "markdown",
   "metadata": {},
   "source": [
    "### Looking at your birthday earthquakes"
   ]
  },
  {
   "cell_type": "code",
   "execution_count": 12,
   "metadata": {},
   "outputs": [
    {
     "data": {
      "text/html": [
       "<div>\n",
       "<style scoped>\n",
       "    .dataframe tbody tr th:only-of-type {\n",
       "        vertical-align: middle;\n",
       "    }\n",
       "\n",
       "    .dataframe tbody tr th {\n",
       "        vertical-align: top;\n",
       "    }\n",
       "\n",
       "    .dataframe thead th {\n",
       "        text-align: right;\n",
       "    }\n",
       "</style>\n",
       "<table border=\"1\" class=\"dataframe\">\n",
       "  <thead>\n",
       "    <tr style=\"text-align: right;\">\n",
       "      <th></th>\n",
       "      <th>time</th>\n",
       "      <th>latitude</th>\n",
       "      <th>longitude</th>\n",
       "      <th>depth</th>\n",
       "      <th>mag</th>\n",
       "      <th>magType</th>\n",
       "      <th>nst</th>\n",
       "      <th>gap</th>\n",
       "      <th>dmin</th>\n",
       "      <th>rms</th>\n",
       "      <th>net</th>\n",
       "      <th>id</th>\n",
       "      <th>updated</th>\n",
       "      <th>place</th>\n",
       "      <th>type</th>\n",
       "      <th>horizontalError</th>\n",
       "      <th>depthError</th>\n",
       "      <th>magError</th>\n",
       "      <th>magNst</th>\n",
       "      <th>status</th>\n",
       "      <th>locationSource</th>\n",
       "      <th>magSource</th>\n",
       "    </tr>\n",
       "  </thead>\n",
       "  <tbody>\n",
       "    <tr>\n",
       "      <th>0</th>\n",
       "      <td>2011-12-27T15:21:56.840Z</td>\n",
       "      <td>51.842</td>\n",
       "      <td>95.911</td>\n",
       "      <td>15.0</td>\n",
       "      <td>6.6</td>\n",
       "      <td>mww</td>\n",
       "      <td>545.0</td>\n",
       "      <td>17.6</td>\n",
       "      <td>NaN</td>\n",
       "      <td>0.81</td>\n",
       "      <td>us</td>\n",
       "      <td>usp000jcq2</td>\n",
       "      <td>2022-04-08T20:25:09.055Z</td>\n",
       "      <td>45 km NNE of Saryg-Sep, Russia</td>\n",
       "      <td>earthquake</td>\n",
       "      <td>NaN</td>\n",
       "      <td>NaN</td>\n",
       "      <td>NaN</td>\n",
       "      <td>NaN</td>\n",
       "      <td>reviewed</td>\n",
       "      <td>us</td>\n",
       "      <td>us</td>\n",
       "    </tr>\n",
       "    <tr>\n",
       "      <th>1</th>\n",
       "      <td>2011-12-27T09:04:30.340Z</td>\n",
       "      <td>31.125</td>\n",
       "      <td>140.338</td>\n",
       "      <td>94.8</td>\n",
       "      <td>5.3</td>\n",
       "      <td>mwc</td>\n",
       "      <td>378.0</td>\n",
       "      <td>25.0</td>\n",
       "      <td>NaN</td>\n",
       "      <td>0.77</td>\n",
       "      <td>us</td>\n",
       "      <td>usp000jcpx</td>\n",
       "      <td>2014-11-07T01:46:37.948Z</td>\n",
       "      <td>Izu Islands, Japan region</td>\n",
       "      <td>earthquake</td>\n",
       "      <td>NaN</td>\n",
       "      <td>NaN</td>\n",
       "      <td>NaN</td>\n",
       "      <td>NaN</td>\n",
       "      <td>reviewed</td>\n",
       "      <td>us</td>\n",
       "      <td>gcmt</td>\n",
       "    </tr>\n",
       "    <tr>\n",
       "      <th>2</th>\n",
       "      <td>2011-12-27T18:32:51.260Z</td>\n",
       "      <td>-52.915</td>\n",
       "      <td>10.479</td>\n",
       "      <td>10.0</td>\n",
       "      <td>5.2</td>\n",
       "      <td>mb</td>\n",
       "      <td>65.0</td>\n",
       "      <td>35.7</td>\n",
       "      <td>NaN</td>\n",
       "      <td>0.96</td>\n",
       "      <td>us</td>\n",
       "      <td>usp000jcqf</td>\n",
       "      <td>2014-11-07T01:46:38.090Z</td>\n",
       "      <td>southwest of Africa</td>\n",
       "      <td>earthquake</td>\n",
       "      <td>NaN</td>\n",
       "      <td>NaN</td>\n",
       "      <td>NaN</td>\n",
       "      <td>32.0</td>\n",
       "      <td>reviewed</td>\n",
       "      <td>us</td>\n",
       "      <td>us</td>\n",
       "    </tr>\n",
       "    <tr>\n",
       "      <th>3</th>\n",
       "      <td>2011-12-27T16:30:34.260Z</td>\n",
       "      <td>-6.998</td>\n",
       "      <td>155.803</td>\n",
       "      <td>88.9</td>\n",
       "      <td>5.1</td>\n",
       "      <td>mb</td>\n",
       "      <td>55.0</td>\n",
       "      <td>67.7</td>\n",
       "      <td>NaN</td>\n",
       "      <td>1.05</td>\n",
       "      <td>us</td>\n",
       "      <td>usp000jcq8</td>\n",
       "      <td>2014-11-07T01:46:38.059Z</td>\n",
       "      <td>83 km SSE of Panguna, Papua New Guinea</td>\n",
       "      <td>earthquake</td>\n",
       "      <td>NaN</td>\n",
       "      <td>7.7</td>\n",
       "      <td>NaN</td>\n",
       "      <td>15.0</td>\n",
       "      <td>reviewed</td>\n",
       "      <td>us</td>\n",
       "      <td>us</td>\n",
       "    </tr>\n",
       "    <tr>\n",
       "      <th>4</th>\n",
       "      <td>2011-12-27T19:41:41.010Z</td>\n",
       "      <td>-17.183</td>\n",
       "      <td>-174.318</td>\n",
       "      <td>145.4</td>\n",
       "      <td>5.1</td>\n",
       "      <td>mb</td>\n",
       "      <td>49.0</td>\n",
       "      <td>87.7</td>\n",
       "      <td>NaN</td>\n",
       "      <td>0.77</td>\n",
       "      <td>us</td>\n",
       "      <td>usp000jcqk</td>\n",
       "      <td>2014-11-07T01:46:38.114Z</td>\n",
       "      <td>146 km SSW of Hihifo, Tonga</td>\n",
       "      <td>earthquake</td>\n",
       "      <td>NaN</td>\n",
       "      <td>8.8</td>\n",
       "      <td>NaN</td>\n",
       "      <td>31.0</td>\n",
       "      <td>reviewed</td>\n",
       "      <td>us</td>\n",
       "      <td>us</td>\n",
       "    </tr>\n",
       "  </tbody>\n",
       "</table>\n",
       "</div>"
      ],
      "text/plain": [
       "                       time  latitude  longitude  depth  mag magType    nst  \\\n",
       "0  2011-12-27T15:21:56.840Z    51.842     95.911   15.0  6.6     mww  545.0   \n",
       "1  2011-12-27T09:04:30.340Z    31.125    140.338   94.8  5.3     mwc  378.0   \n",
       "2  2011-12-27T18:32:51.260Z   -52.915     10.479   10.0  5.2      mb   65.0   \n",
       "3  2011-12-27T16:30:34.260Z    -6.998    155.803   88.9  5.1      mb   55.0   \n",
       "4  2011-12-27T19:41:41.010Z   -17.183   -174.318  145.4  5.1      mb   49.0   \n",
       "\n",
       "    gap  dmin   rms net          id                   updated  \\\n",
       "0  17.6   NaN  0.81  us  usp000jcq2  2022-04-08T20:25:09.055Z   \n",
       "1  25.0   NaN  0.77  us  usp000jcpx  2014-11-07T01:46:37.948Z   \n",
       "2  35.7   NaN  0.96  us  usp000jcqf  2014-11-07T01:46:38.090Z   \n",
       "3  67.7   NaN  1.05  us  usp000jcq8  2014-11-07T01:46:38.059Z   \n",
       "4  87.7   NaN  0.77  us  usp000jcqk  2014-11-07T01:46:38.114Z   \n",
       "\n",
       "                                    place        type  horizontalError  \\\n",
       "0          45 km NNE of Saryg-Sep, Russia  earthquake              NaN   \n",
       "1               Izu Islands, Japan region  earthquake              NaN   \n",
       "2                     southwest of Africa  earthquake              NaN   \n",
       "3  83 km SSE of Panguna, Papua New Guinea  earthquake              NaN   \n",
       "4             146 km SSW of Hihifo, Tonga  earthquake              NaN   \n",
       "\n",
       "   depthError  magError  magNst    status locationSource magSource  \n",
       "0         NaN       NaN     NaN  reviewed             us        us  \n",
       "1         NaN       NaN     NaN  reviewed             us      gcmt  \n",
       "2         NaN       NaN    32.0  reviewed             us        us  \n",
       "3         7.7       NaN    15.0  reviewed             us        us  \n",
       "4         8.8       NaN    31.0  reviewed             us        us  "
      ]
     },
     "execution_count": 12,
     "metadata": {},
     "output_type": "execute_result"
    }
   ],
   "source": [
    "your_birthday_earthquakes.head()"
   ]
  },
  {
   "cell_type": "code",
   "execution_count": null,
   "metadata": {},
   "outputs": [],
   "source": [
    "your_birthday_earthquakes.loc[0]"
   ]
  },
  {
   "attachments": {},
   "cell_type": "markdown",
   "metadata": {},
   "source": [
    "What is the magnitude of your birthquake? Where did it occur?\n",
    "\n",
    "**Open up the course bCourses page and complete the birthquake quiz with the magnitude, latitude and longitude**\n",
    "\n",
    "https://bcourses.berkeley.edu/courses/1521897"
   ]
  }
 ],
 "metadata": {
  "kernelspec": {
   "display_name": "base",
   "language": "python",
   "name": "python3"
  },
  "language_info": {
   "codemirror_mode": {
    "name": "ipython",
    "version": 3
   },
   "file_extension": ".py",
   "mimetype": "text/x-python",
   "name": "python",
   "nbconvert_exporter": "python",
   "pygments_lexer": "ipython3",
   "version": "3.8.13"
  },
  "vscode": {
   "interpreter": {
    "hash": "7d3ea8551337eda1592ac3e18399e94476c3eb783b907fc6bd15055dbc6c8ba9"
   }
  }
 },
 "nbformat": 4,
 "nbformat_minor": 2
}
