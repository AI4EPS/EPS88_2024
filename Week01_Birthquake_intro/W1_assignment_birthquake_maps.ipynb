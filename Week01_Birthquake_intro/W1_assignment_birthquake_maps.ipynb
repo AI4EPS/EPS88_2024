{
 "cells": [
  {
   "cell_type": "markdown",
   "metadata": {
    "slideshow": {
     "slide_type": "-"
    }
   },
   "source": [
    "# Map projections and making your birthquake map\n",
    "\n",
    "The purpose of this introduction is to give you a bit of a background on map projections and other geospatial concepts. This will help you to:\n",
    " \n",
    " * choose map projections that are appropriate for plotting data\n",
    " * understand the terms used in the ```cartopy``` functions which is a function library we will use for plotting geospatial data"
   ]
  },
  {
   "cell_type": "markdown",
   "metadata": {
    "slideshow": {
     "slide_type": "-"
    }
   },
   "source": [
    "# The world *is not* flat / 2D (sorry flat-Earthers)\n",
    "\n",
    "<img src=\"./figures/azim-eq.png\" style=\"max-height: 55vh; margin-left: auto; margin-right: auto;\">\n",
    "\n",
    "\"Azimuthal equidistant projections of the sphere ... have been co-opted as images of the flat Earth model, depicting Antarctica as an ice wall surrounding a disk-shaped Earth.\" ([Wikipedia: Flat Earth](https://en.wikipedia.org/wiki/Flat_Earth#Flat_Earth_Society))"
   ]
  },
  {
   "cell_type": "markdown",
   "metadata": {
    "slideshow": {
     "slide_type": "-"
    }
   },
   "source": [
    "## Most of our media for visualization *are* flat\n",
    "\n",
    "Our two most common media are flat:\n",
    "\n",
    " * Paper\n",
    " * Screen"
   ]
  },
  {
   "cell_type": "markdown",
   "metadata": {
    "slideshow": {
     "slide_type": "-"
    }
   },
   "source": [
    "### But there are *a few* that aren't...\n",
    "\n",
    "For example:\n",
    "\n",
    " * 3D rendering engine (the engine is then typically responsible for projecting the data to 2D for presentation to screen)\n",
    " * A Spherical Projector...\n"
   ]
  },
  {
   "cell_type": "markdown",
   "metadata": {
    "slideshow": {
     "slide_type": "-"
    }
   },
   "source": [
    "## [Map] Projections: Taking us from spherical to flat\n",
    "\n",
    "A map projection (or more commonly refered to as just \"projection\") is:\n",
    "\n",
    "> a systematic transformation of the latitudes and longitudes of locations from the surface of a sphere or an ellipsoid into locations on a plane. [[Wikipedia: Map projection](https://en.wikipedia.org/wiki/Map_projection)]."
   ]
  },
  {
   "cell_type": "markdown",
   "metadata": {
    "slideshow": {
     "slide_type": "-"
    }
   },
   "source": [
    "## The major problem with map projections\n",
    "\n",
    "<img src=\"./figures/orange_peel.jpg\" style=\"margin-left: auto; margin-right: auto;\">\n",
    "\n",
    " * The surface of a sphere is topologically different to a 2D surface, therefore we *have* to cut the sphere *somewhere*\n",
    " * A sphere's surface cannot be represented on a plane without distortion.\n",
    " \n",
    "**Watch the video embedded below** (*click the notebook play button to embed it in the notebook or watch it at this link: https://youtu.be/kIID5FDi2JQ*). This video gives an introduction (with nice accompanying visualizations) of this issue and different projections along with the positives and negatives of different commonly used ones."
   ]
  },
  {
   "cell_type": "code",
   "execution_count": null,
   "metadata": {
    "slideshow": {
     "slide_type": "-"
    }
   },
   "outputs": [],
   "source": [
    "from IPython.lib.display import YouTubeVideo\n",
    "YouTubeVideo('kIID5FDi2JQ')"
   ]
  },
  {
   "cell_type": "markdown",
   "metadata": {},
   "source": [
    "### Different projections\n",
    "\n",
    "We are going to use the function library `cartopy` to make maps. `cartopy`  supports a number of different map projections which enable the 3 dimensional surface of Earth to be shown in 2 dimensions on our computer screens. I (Nick Swanson-Hysell) like the Robinson projection (although I like Mollweide more)-- you can see what the says about me by referring to this XKCD comic (https://xkcd.com/977/). Having watched the above video will give you some context to appreciate these jokes:\n",
    "\n",
    "<img src=\"./figures/map_projections.png\" style=\"margin-left: auto; margin-right: auto;\">\n",
    "\n",
    "You can check out the list of projections supported by `cartopy` here: https://scitools.org.uk/cartopy/docs/v0.15/crs/projections.html"
   ]
  },
  {
   "cell_type": "markdown",
   "metadata": {
    "slideshow": {
     "slide_type": "-"
    }
   },
   "source": [
    "### Common distortions of map projections\n",
    "\n",
    "Properties of maps that are often not preserved in projections:\n",
    "\n",
    "* Area\n",
    "* Shape\n",
    "* Direction\n",
    "* Distance\n",
    "* Scale"
   ]
  },
  {
   "cell_type": "markdown",
   "metadata": {
    "slideshow": {
     "slide_type": "-"
    }
   },
   "source": [
    "> all ~~models~~ map projections are wrong, but some are useful - Phileas Elson (SciPy 2018)"
   ]
  },
  {
   "cell_type": "markdown",
   "metadata": {
    "slideshow": {
     "slide_type": "-"
    }
   },
   "source": [
    "## Classifying projections\n",
    "\n",
    "Two common approaches:\n",
    "\n",
    " 1. By [2D] surface classification\n",
    " 2. By preserving a given property (metric)"
   ]
  },
  {
   "cell_type": "markdown",
   "metadata": {
    "slideshow": {
     "slide_type": "-"
    }
   },
   "source": [
    "### Projections by surface classification\n",
    "\n",
    "![](./figures/projections.gif)\n",
    "\n",
    "*Downside: Not all projections can be classified in this way -> Leads to big \"pseudo\" and \"other\" groups.*"
   ]
  },
  {
   "cell_type": "markdown",
   "metadata": {
    "slideshow": {
     "slide_type": "-"
    }
   },
   "source": [
    "## Surface classification: Cylindrical\n",
    "\n",
    "<img src=\"./figures/cylindrical.png\">\n",
    "<p style=\"font-size: xx-small; float: right;\">\n",
    "Source: http://ayresriverblog.com/2011/05/19/the-world-is-flat/\n",
    "</p>\n",
    "\n",
    "\n",
    "* Meridians and paralells are straight and perpendicular.\n"
   ]
  },
  {
   "cell_type": "markdown",
   "metadata": {
    "slideshow": {
     "slide_type": "-"
    }
   },
   "source": [
    "## Surface classification: Azimuthal\n",
    "\n",
    "<img src=\"./figures/azimuthal.png\">\n",
    "<p style=\"font-size: xx-small; float: right;\">\n",
    "Source: http://ayresriverblog.com/2011/05/19/the-world-is-flat/\n",
    "</p>\n",
    "\n",
    "\n",
    "* Parallels are complete circles\n",
    "* Great circles from central point are straight lines."
   ]
  },
  {
   "cell_type": "markdown",
   "metadata": {
    "slideshow": {
     "slide_type": "-"
    }
   },
   "source": [
    "## Surface classification: Conic\n",
    "<img src=\"./figures/conic.png\">\n",
    "<p style=\"font-size: xx-small; float: right;\">\n",
    "Source: http://ayresriverblog.com/2011/05/19/the-world-is-flat/\n",
    "</p>\n",
    "\n",
    "* Meridians are straight equally-spaced lines\n",
    "* Parallels are circular arcs."
   ]
  },
  {
   "cell_type": "markdown",
   "metadata": {
    "slideshow": {
     "slide_type": "-"
    }
   },
   "source": [
    "### Projections by preserving metric\n",
    "\n",
    "Downside: Some projections can live in multiple groups."
   ]
  },
  {
   "cell_type": "markdown",
   "metadata": {
    "slideshow": {
     "slide_type": "-"
    }
   },
   "source": [
    "## Preserving metric: Conformal\n",
    "\n",
    "Also known as Orthomorphic.\n",
    "\n",
    "These projections preserve angles locally. Implying that circles anywhere on the Earth's surface map to circles of *varying size* in the projected space.\n",
    "\n",
    "Examples of conformal projections:\n",
    "\n",
    " * Mercator\n",
    " * Transverse Mercator\n",
    " * Stereographic\n",
    " * Lambert conformal conic"
   ]
  },
  {
   "cell_type": "markdown",
   "metadata": {
    "slideshow": {
     "slide_type": "-"
    }
   },
   "source": [
    "## Preserving metric: Conformal\n",
    "\n",
    "### Use in large scale maps (zoomed in)\n",
    "\n",
    "Often used to preserve shape to represent their physical counterpart.\n",
    "Seamless online maps like OSM/Google/Bing typically use a Mercator projection although Google Maps has begun using an 3D-rendered globe projection when the user zooms out:\n",
    "\n",
    "> The first launch of [Google] Maps actually did not use Mercator, and streets in high latitude places like Stockholm did not meet at right angles on the map the way they do in reality. [[ref](https://productforums.google.com/d/msg/maps/A2ygEJ5eG-o/KbZr_B0h2hkJ)]\n",
    "\n",
    "The major drawback: it is difficult to compare lengths or areas"
   ]
  },
  {
   "cell_type": "markdown",
   "metadata": {
    "slideshow": {
     "slide_type": "-"
    }
   },
   "source": [
    "## Preserving metric: Conformal\n",
    "\n",
    "### Use in small scale maps (zoomed out)\n",
    "\n",
    "Maps reflecting directions, such as an [aero]nautical chart, or whose gradients are important,\n",
    "such as a weather maps, are often projected by conformal projections.\n",
    "\n",
    "Historically, many world maps are drawn by conformal projections, but the fact that the scale of the map\n",
    "varies by location makes it difficult to compare lengths or areas.\n",
    "Some have gone as far as calling the Mercator projection imperialistic and racist.\n"
   ]
  },
  {
   "cell_type": "markdown",
   "metadata": {
    "slideshow": {
     "slide_type": "-"
    }
   },
   "source": [
    "## Preserving metric: Equidistant\n",
    "\n",
    "No map projection can be universally equidistant.\n",
    "\n",
    "Some projections preserve distance from some standard point or line.\n",
    "\n",
    "Examples of projections that preserve distances along meridians (but not parallels):\n",
    "\n",
    " * Equirectangular / Plate Carree\n",
    " * Azimuthal equidistant\n"
   ]
  },
  {
   "cell_type": "markdown",
   "metadata": {
    "slideshow": {
     "slide_type": "-"
    }
   },
   "source": [
    "## Preserving metric: Equal-area\n",
    "\n",
    "\n",
    "Equal-area maps preserve area measure, generally distorting shapes in order to do so.\n",
    "\n",
    "Examples of equal area projections:\n",
    " * Albers conic\n",
    " * Eckert IV\n",
    " * Goode's homolosine\n",
    " * Lambert azimuthal equal-area\n",
    " * Lambert cylindrical equal-area\n",
    " * Mollweide\n",
    " * Sinusoidal"
   ]
  },
  {
   "cell_type": "markdown",
   "metadata": {
    "slideshow": {
     "slide_type": "-"
    }
   },
   "source": [
    "## Preserving metric: Compromise\n",
    "\n",
    "Rather than perfectly preserving any metric properties, compromise\n",
    "projections aim strike a balance between distortions.\n",
    "These compromises are often at the cost of polar distortions.\n",
    "\n",
    "Examples:\n",
    "    \n",
    " * Miller\n",
    " * Robinson\n",
    " * Winkel Tripel"
   ]
  },
  {
   "cell_type": "markdown",
   "metadata": {
    "slideshow": {
     "slide_type": "-"
    }
   },
   "source": [
    "## Tissot's indicatrix\n",
    "\n",
    "A mathematical contrivance in order to characterize local distortions of a map projection. Multiple circles (on the sphere/ellipse) of constant area are drawn on the map. By analysing the distortions, we can identify (or more often rule-out) particular preserving metrics. You can see how dramatic the distortion is in an equirectangular projection. \n",
    "\n",
    "\n",
    "<img src=\"./figures/tissot.platecarree.1000km.png\" style=\"margin-left: auto; margin-right: auto;\">\n"
   ]
  },
  {
   "cell_type": "markdown",
   "metadata": {},
   "source": [
    "## Now let's make your first map!\n",
    "\n",
    "We are going to use ```cartopy``` in conjunction with ```matplotlib``` to make maps. ```cartopy``` can transform points, lines and images into different map projections. ```matplotlib``` provides tools to visualize these projections. We will import them using the standard conventions. **You must press play (or more efficiently shift+enter) on the cell that imports these function libraries for the rest of the code to work.**"
   ]
  },
  {
   "cell_type": "code",
   "execution_count": null,
   "metadata": {},
   "outputs": [],
   "source": [
    "import cartopy.crs as ccrs\n",
    "import matplotlib.pyplot as plt"
   ]
  },
  {
   "cell_type": "markdown",
   "metadata": {},
   "source": [
    "The syntax of using these functions takes some getting used to. Here we will make a figure, create an axis object with a defined projection, and then plot coastlines and a stock image that shows elevation."
   ]
  },
  {
   "cell_type": "code",
   "execution_count": null,
   "metadata": {},
   "outputs": [],
   "source": [
    "plt.figure(figsize=(8, 4))\n",
    "ax = plt.axes(projection=ccrs.Mollweide())\n",
    "ax.coastlines()\n",
    "ax.stock_img()\n",
    "plt.show()"
   ]
  },
  {
   "cell_type": "markdown",
   "metadata": {},
   "source": [
    "Let's plot the location of Berkeley on a map. First we want to assign the latitude and longitude of Berkeley to variables:"
   ]
  },
  {
   "cell_type": "code",
   "execution_count": null,
   "metadata": {},
   "outputs": [],
   "source": [
    "Berkeley_latitude = 37.8715\n",
    "Berkeley_longitude = -122.2730"
   ]
  },
  {
   "cell_type": "markdown",
   "metadata": {},
   "source": [
    "Now we can use the ```plt.scatter()``` function to plot the location of Berkeley. ```plt.scatter()``` is one of the many plotting functions available using the ```matplotlib``` library that we imported above using ```import matplotlib.pyplot as plt```.\n",
    "\n",
    "We give the ```plt.scatter()``` function ```Berkeley_longitude``` as the x-value, ```Berkeley_latitude``` as the y-value while also telling it to transform it into map coordinates (```transform=ccrs.PlateCarree()```) and to make the point red (```color='red'```). "
   ]
  },
  {
   "cell_type": "code",
   "execution_count": null,
   "metadata": {},
   "outputs": [],
   "source": [
    "plt.figure(figsize=(8, 4))\n",
    "ax = plt.axes(projection=ccrs.Mollweide())\n",
    "ax.stock_img()\n",
    "plt.scatter(Berkeley_longitude, Berkeley_latitude, \n",
    "            transform=ccrs.PlateCarree(), color='red')\n",
    "plt.show()"
   ]
  },
  {
   "cell_type": "markdown",
   "metadata": {},
   "source": [
    "Revisit your in class notebook when you found your birthquake and enter the latitude of longitude in the cell below assigning them to ```birthquake_latitude``` and ```birthquake_longitude```."
   ]
  },
  {
   "cell_type": "code",
   "execution_count": null,
   "metadata": {},
   "outputs": [],
   "source": [
    "birthquake_longitude = \n",
    "birthquake_latitude = "
   ]
  },
  {
   "cell_type": "markdown",
   "metadata": {},
   "source": [
    "Once ```birthquake_latitude``` and ```birthquake_longitude``` are defined, we can plot them instead of the position of Berkeley. Replace the ellipsis (`...`) with ```birthquake_latitude``` and ```birthquake_longitude``` in the cell below:"
   ]
  },
  {
   "cell_type": "code",
   "execution_count": null,
   "metadata": {},
   "outputs": [],
   "source": [
    "plt.figure(figsize=(8, 4))\n",
    "ax = plt.axes(projection=ccrs.Mollweide())\n",
    "ax.stock_img()\n",
    "plt.scatter(..., ..., \n",
    "            transform=ccrs.PlateCarree(), color='red')\n",
    "plt.show()"
   ]
  },
  {
   "cell_type": "markdown",
   "metadata": {},
   "source": [
    "Now let's plot both the location of Berkeley and the location of your birthquake. Rather than a single values for x (i.e. a single value of longitude) and a single value for y (i.e. a single value of latitude), we want there to be a list of x values and a list of y values. A list can be defined with square brackets with values separated by commas (e.g. ```[value1, value2]```)."
   ]
  },
  {
   "cell_type": "code",
   "execution_count": null,
   "metadata": {},
   "outputs": [],
   "source": [
    "plt.figure(figsize=(8, 4))\n",
    "ax = plt.axes(projection=ccrs.Robinson())\n",
    "ax.stock_img()\n",
    "plt.scatter(\n",
    "    [Berkeley_longitude, birthquake_longitude],\n",
    "    [Berkeley_latitude, birthquake_latitude],\n",
    "    transform=ccrs.PlateCarree(),\n",
    "    color='red')\n",
    "plt.show()"
   ]
  },
  {
   "cell_type": "markdown",
   "metadata": {},
   "source": [
    "We can save the figure using ```plt.savefig()``` putting the name of the file with the extension within the ```()```. In this case, let's call it ```'map_w_Berkeley_and_birthquake.png'```. Let's also go ahead and add a title to the plot using ```plt.title()```."
   ]
  },
  {
   "cell_type": "code",
   "execution_count": null,
   "metadata": {},
   "outputs": [],
   "source": [
    "plt.figure(figsize=(8, 4))\n",
    "ax = plt.axes(projection=ccrs.Robinson())\n",
    "ax.stock_img()\n",
    "plt.scatter(\n",
    "    [Berkeley_longitude, birthquake_longitude],\n",
    "    [Berkeley_latitude, birthquake_latitude],\n",
    "    transform=ccrs.PlateCarree(),\n",
    "    color='red')\n",
    "plt.title('map with location of Berkeley and my Birthquake')\n",
    "plt.savefig('map_w_Berkeley_and_birthquake.png')"
   ]
  },
  {
   "cell_type": "markdown",
   "metadata": {},
   "source": [
    "## Make a map of 5 largest birthdate earthquakes and upload to bCourses.\n",
    "\n",
    "Use the code cells below to make another map where you plot the locations of the 5 largest magnitude earthquakes that occured on the day you were born. Choose any projection you want (https://scitools.org.uk/cartopy/docs/v0.15/crs/projections.html). You can see that the examples above use Robinson and Mollweide projections.\n",
    "\n",
    "Add a title to the map that has your name in it.\n",
    "\n",
    "When you have made this map, save it as a .png file and upload it to the bCourses assignment. "
   ]
  },
  {
   "cell_type": "code",
   "execution_count": null,
   "metadata": {},
   "outputs": [],
   "source": []
  },
  {
   "cell_type": "code",
   "execution_count": null,
   "metadata": {},
   "outputs": [],
   "source": []
  },
  {
   "cell_type": "code",
   "execution_count": null,
   "metadata": {},
   "outputs": [],
   "source": []
  },
  {
   "cell_type": "markdown",
   "metadata": {},
   "source": [
    "# Acknowledgments\n",
    "\n",
    "This introductory text is modified from a tutorial on working with geospatial data using the library ```cartopy``` that was presented at the 2018 Scipy conference by Phileas Elson (lots of great things to learn in this tutorial if you want to dig into it at some point):\n",
    "\n",
    "https://youtu.be/AmidIx6Jmn8\n",
    "\n",
    "https://github.com/SciTools/cartopy-tutorial\n",
    "\n",
    "The materials in the linked to tutorials were licensed with an open license as long as they original source is acknowledged."
   ]
  }
 ],
 "metadata": {
  "kernelspec": {
   "display_name": "Python 3 (ipykernel)",
   "language": "python",
   "name": "python3"
  },
  "language_info": {
   "codemirror_mode": {
    "name": "ipython",
    "version": 3
   },
   "file_extension": ".py",
   "mimetype": "text/x-python",
   "name": "python",
   "nbconvert_exporter": "python",
   "pygments_lexer": "ipython3",
   "version": "3.9.12"
  },
  "livereveal": {
   "auto_select": "none",
   "autolaunch": "true",
   "footer": " ",
   "header": "<script src='/files/static/theme/reveal.js'></script>",
   "start_slideshow_at": "selected"
  },
  "vscode": {
   "interpreter": {
    "hash": "31f2aee4e71d21fbe5cf8b01ff0e069b9275f58929596ceb00d14d90e3e16cd6"
   }
  }
 },
 "nbformat": 4,
 "nbformat_minor": 4
}
