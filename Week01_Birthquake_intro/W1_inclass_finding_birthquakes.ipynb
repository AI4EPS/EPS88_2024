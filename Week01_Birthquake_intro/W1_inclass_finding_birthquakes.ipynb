{
 "cells": [
  {
   "cell_type": "markdown",
   "metadata": {},
   "source": [
    "# Welcome to EPS 88\n",
    "\n",
    "The goal of this course is to empower you to learn about the Earth using computation.\n",
    "\n",
    "The tools of data science enable us to learn about the Earth through the approaches of:\n",
    "- Exploration\n",
    "  - Identifying patterns in data through visualization\n",
    "- Inference\n",
    "  - Using data to obtain reliable insights about the Earth through the application of statistics\n",
    "- Prediction\n",
    "  - Use analysis of data we can observe to make informed predictions of things we cannot observe using machine learning\n",
    "\n",
    "For this course, no background in Earth Science is required although any background will enrich your experience. Some background readings on Earth science topics will be assigned during the semester.\n",
    "\n",
    "For this course, no background in programming and data science is assumed other than this course being designed to be a connector course to Data 8. You should have taken Data 8, be taking it concurrently, or have other experience with Python outside of the context of Data 8. All Data 8 materials including lecture videos are openly available which does enable self-study: http://www.data8.org/fa22/ as is the Data 8 textbook: https://inferentialthinking.com/chapters/intro.html"
   ]
  },
  {
   "cell_type": "markdown",
   "metadata": {},
   "source": [
    "## The Jupyter notebook environment\n",
    "\n",
    "The Jupyter notebook environment is the environment we will be habitating this semester in EPS 88.\n",
    "\n",
    "### Markdown cells\n",
    "\n",
    "This cell is Markdown text. It is the cell type where we can type text that isn't code. Go ahead and double click in this cell and you will see that you can edit it. **Type something here:**"
   ]
  },
  {
   "cell_type": "markdown",
   "metadata": {},
   "source": [
    "### Code cells\n",
    "\n",
    "Let's get going right away by dealing with some data within this Jupyter notebook. The first bit of code you will run is in the cell below. This is a code cell rather than a markdown cell (you can change the cell type using the drop-down box above). You can either hit the play button above, or more efficiently press *shift+enter* on your keyboard to run the code."
   ]
  },
  {
   "cell_type": "code",
   "execution_count": null,
   "metadata": {},
   "outputs": [],
   "source": [
    "#This cell is a code cell. It is where we can type code that \n",
    "#can be run. The hashtag at the start of this line makes it \n",
    "#so that this text is a comment not code. \n",
    "\n",
    "import pandas as pd\n",
    "pd.set_option('display.max_columns', None)"
   ]
  },
  {
   "cell_type": "markdown",
   "metadata": {},
   "source": [
    "The reason why we execute the code ```import pandas as pd``` is so that we can use the functions of the ```pandas``` library which provides really helpful data structures and data analysis tools. We are using the standard convention of importing it using the nickname ```pd```. One of the fantastic things about doing data analysis in Python is the availability of great data analysis tools such as ```pandas```. One of the frustrating things can be learning how to use these diverse tools and which to use when. You will get more and more comfortable with these tools as the term progresses."
   ]
  },
  {
   "cell_type": "markdown",
   "metadata": {},
   "source": [
    "# Finding Birthquakes\n",
    "\n",
    "Your birthquake is the largest magnitude earthquake that occured on the day you were born. In this in-class exercise, we are going to search an earthquake catalog and find your birthquake.\n",
    "\n",
    "To do so, we can going to download data from the US Geological Survey (USGS) Earthquake Hazards program. https://earthquake.usgs.gov\n",
    "\n",
    "We are going to use an API that lets us send an url to the USGS and get earthquake information for a set of specified parameters. \n",
    "\n",
    "## Finding Nick's birthquake\n",
    "### Enter Nick's birthday\n",
    "\n",
    "Let's do it first for my birthday. We will define my birthday in year-month-day format and the day after my birthday in year-month-day format in order to make a url that gets data starting on 12 am of my birthday and ending 12 am of the next day. We are putting the quote marks (' ') around the dates so that they are **strings** (the Python data type that is a sequence of text)."
   ]
  },
  {
   "cell_type": "code",
   "execution_count": null,
   "metadata": {},
   "outputs": [],
   "source": [
    "nick_birthday = '1983-01-09'"
   ]
  },
  {
   "cell_type": "markdown",
   "metadata": {},
   "source": [
    "What we just did in the code above is to create the variable ```nick_birthday``` and assign it to be set to be the string '1983-01-09'. If we run a code cell with just that variable, Jupyter will show the variable as the code output."
   ]
  },
  {
   "cell_type": "code",
   "execution_count": null,
   "metadata": {},
   "outputs": [],
   "source": [
    "nick_birthday"
   ]
  },
  {
   "cell_type": "markdown",
   "metadata": {},
   "source": [
    "Another way to see the variable is to tell python to print it using the ```print()``` function."
   ]
  },
  {
   "cell_type": "code",
   "execution_count": null,
   "metadata": {},
   "outputs": [],
   "source": [
    "print(nick_birthday)"
   ]
  },
  {
   "cell_type": "markdown",
   "metadata": {},
   "source": [
    "We are going to need to tell the USGS to look for earthquakes that are bracketed between the start of the day on my birthday and the end of the day on my birthday for which we can assign a variable named `day_after_nick_birthday` to be the string `1983-01-10`. Python variable names cannot have spaces in them which is why I am using underscores `_`."
   ]
  },
  {
   "cell_type": "code",
   "execution_count": null,
   "metadata": {},
   "outputs": [],
   "source": [
    "day_after_nick_birthday = '1983-01-10'"
   ]
  },
  {
   "attachments": {},
   "cell_type": "markdown",
   "metadata": {},
   "source": [
    "### Defining Nick's birthday earthquake URL\n",
    "\n",
    "To make a url that we can send to the USGS and get back data, we need to insert these dates into the USGS earthquake API url format (https://earthquake.usgs.gov/fdsnws/event/1/). API stands for 'application programming interface' and an API url path provides a way to access data that are available online. A nice thing about using an API url to access data is that it makes code portable and reproducible as the code can grab the data from the internet without needing a local copy.\n",
    "\n",
    "We will define the standard_url as a string and include that we want to get the data as a `csv` with `format=csv` and that we want the data to be in the order of magitude with `&orderby=magnitude`. We can then add the dates that were set above to be the `&starttime` and `&endtime`."
   ]
  },
  {
   "cell_type": "code",
   "execution_count": null,
   "metadata": {},
   "outputs": [],
   "source": [
    "standard_url = 'https://earthquake.usgs.gov/fdsnws/event/1/query?format=csv&orderby=magnitude'\n",
    "\n",
    "nick_birthquake_url = (standard_url + '&starttime=' + \n",
    "                       nick_birthday + '&endtime=' + \n",
    "                       day_after_nick_birthday)\n",
    "\n",
    "nick_birthquake_url"
   ]
  },
  {
   "cell_type": "code",
   "execution_count": null,
   "metadata": {},
   "outputs": [],
   "source": [
    "print(nick_birthquake_url)"
   ]
  },
  {
   "cell_type": "markdown",
   "metadata": {},
   "source": [
    "### Getting Nick's birthday earthquakes\n",
    "\n",
    "We now have a url that we can use to get data from the USGS. We could cut and paste this url into a web browser. Go ahead and give that a try.\n",
    "\n",
    "Alternatively, we can use functions from the `pandas` module that we imported at the top of this notebook to get these data. The standard way to use ```pandas``` is to import it with the shorthand ```pd```. We will use the ```pd.read_csv()``` function which will take the data that comes from the USGS url and make it into a `DataFrame`. A `DataFrame` is a data structure with columns of different data that are defined with column names."
   ]
  },
  {
   "cell_type": "code",
   "execution_count": null,
   "metadata": {},
   "outputs": [],
   "source": [
    "nick_birthday_earthquakes = pd.read_csv(nick_birthquake_url)"
   ]
  },
  {
   "cell_type": "markdown",
   "metadata": {},
   "source": [
    "These data are sorted by magnitude with the largest magnitude earthquakes at top. Let's look at the first 5 rows of the DataFrame using the ```.head()``` function."
   ]
  },
  {
   "cell_type": "code",
   "execution_count": null,
   "metadata": {},
   "outputs": [],
   "source": [
    "nick_birthday_earthquakes.head()"
   ]
  },
  {
   "cell_type": "markdown",
   "metadata": {},
   "source": [
    "We can just look at values in one row by applying the ```.loc``` function to the DataFrame and calling the index 0. Python is zero-indexed (just like human ages!) so the first row is row zero. We can apply .loc to the first row to see all the details about my birthquake."
   ]
  },
  {
   "cell_type": "code",
   "execution_count": null,
   "metadata": {},
   "outputs": [],
   "source": [
    "nick_birthday_earthquakes.loc[0]"
   ]
  },
  {
   "cell_type": "markdown",
   "metadata": {},
   "source": [
    "It can be useful to return a single value which can be done by calling both the the row and the column using the ```.loc``` function. "
   ]
  },
  {
   "cell_type": "code",
   "execution_count": null,
   "metadata": {},
   "outputs": [],
   "source": [
    "nick_birthday_earthquakes.loc[0]['mag']"
   ]
  },
  {
   "attachments": {},
   "cell_type": "markdown",
   "metadata": {},
   "source": [
    "When working with Python for this course, you are going to get errors. I get errors almost everyday. Programming languages are not flexible and what things to be just so. \n",
    "\n",
    "Error messages can look quite intimidating, but they often are informative (particularly if you look at the bottom). For example, the code cell below should result in an error. Go ahead and execute it and let's have a look at the result."
   ]
  },
  {
   "cell_type": "code",
   "execution_count": null,
   "metadata": {},
   "outputs": [],
   "source": [
    "nick_birthday_earthquakes.loc[0]['birthday_cake']"
   ]
  },
  {
   "cell_type": "markdown",
   "metadata": {},
   "source": [
    "#### Nick's birthquake\n",
    "\n",
    "The largest earthquake on the day I was born was a magnitude (column `mag`) 6.1 that occured off the east coast of the Kamchatka Peninsula (column `place`)."
   ]
  },
  {
   "cell_type": "markdown",
   "metadata": {},
   "source": [
    "## Finding your birthquake\n",
    "### Enter your birthday\n",
    "\n",
    "Enter your birthday and the date after in year-mm-dd format."
   ]
  },
  {
   "cell_type": "code",
   "execution_count": null,
   "metadata": {},
   "outputs": [],
   "source": [
    "### Enter your birthday here within the quotes in year-mm-dd format\n",
    "\n",
    "your_birthday = ''\n",
    "day_after_your_birthday = ''"
   ]
  },
  {
   "cell_type": "code",
   "execution_count": null,
   "metadata": {},
   "outputs": [],
   "source": [
    "your_birthday"
   ]
  },
  {
   "cell_type": "markdown",
   "metadata": {},
   "source": [
    "#### Defining your birthday earthquake URL"
   ]
  },
  {
   "cell_type": "code",
   "execution_count": null,
   "metadata": {},
   "outputs": [],
   "source": [
    "standard_url = 'https://earthquake.usgs.gov/fdsnws/event/1/query?format=csv&orderby=magnitude'\n",
    "\n",
    "your_birthquake_url = (standard_url + '&starttime=' +\n",
    "                       your_birthday + '&endtime=' +\n",
    "                       day_after_your_birthday)\n",
    "\n",
    "your_birthquake_url"
   ]
  },
  {
   "cell_type": "markdown",
   "metadata": {},
   "source": [
    "#### Getting your birthday earthquakes"
   ]
  },
  {
   "cell_type": "code",
   "execution_count": null,
   "metadata": {},
   "outputs": [],
   "source": [
    "your_birthday_earthquakes = pd.read_csv(your_birthquake_url)"
   ]
  },
  {
   "cell_type": "markdown",
   "metadata": {},
   "source": [
    "### Looking at your birthday earthquakes"
   ]
  },
  {
   "cell_type": "code",
   "execution_count": null,
   "metadata": {},
   "outputs": [],
   "source": [
    "your_birthday_earthquakes.head()"
   ]
  },
  {
   "cell_type": "code",
   "execution_count": null,
   "metadata": {},
   "outputs": [],
   "source": [
    "your_birthday_earthquakes.loc[0]"
   ]
  },
  {
   "cell_type": "markdown",
   "metadata": {},
   "source": [
    "What is the magnitude of your birthquake? Where did it occur?\n",
    "\n",
    "**Open up the course bCourses page and complete the birthquake quiz with the magnitude, latitude and longitude**\n",
    "\n",
    "https://bcourses.berkeley.edu/courses/1521897"
   ]
  }
 ],
 "metadata": {
  "kernelspec": {
   "display_name": "Python 3 (ipykernel)",
   "language": "python",
   "name": "python3"
  },
  "language_info": {
   "codemirror_mode": {
    "name": "ipython",
    "version": 3
   },
   "file_extension": ".py",
   "mimetype": "text/x-python",
   "name": "python",
   "nbconvert_exporter": "python",
   "pygments_lexer": "ipython3",
   "version": "3.8.15"
  },
  "vscode": {
   "interpreter": {
    "hash": "7d3ea8551337eda1592ac3e18399e94476c3eb783b907fc6bd15055dbc6c8ba9"
   }
  }
 },
 "nbformat": 4,
 "nbformat_minor": 4
}
