{
 "cells": [
  {
   "cell_type": "markdown",
   "metadata": {},
   "source": [
    "# Earthquake locations and travel times\n",
    "\n",
    "**This assignment has two main parts:**\n",
    "\n",
    "1) Revisit the global earthquake catalog, make a map that shows magnitude and make interpretations about where the largest earthquakes happen. [10 points]\n",
    "\n",
    "2) Plot the seismograph associated with a 2020 earthquake and make interpretations related to seismic wave travel time. [15 points]"
   ]
  },
  {
   "cell_type": "markdown",
   "metadata": {},
   "source": [
    "**To do these things, you will need to be using the python libraries we have used thus far** (and a new one):"
   ]
  },
  {
   "cell_type": "code",
   "execution_count": null,
   "metadata": {},
   "outputs": [],
   "source": [
    "import numpy as np\n",
    "import pandas as pd\n",
    "\n",
    "import matplotlib.pyplot as plt\n",
    "import matplotlib.patches as mpatches\n",
    "import matplotlib.dates as mdates\n",
    "import cartopy.crs as ccrs\n",
    "from cartopy.io.shapereader import Reader\n",
    "\n",
    "from geopy import distance"
   ]
  },
  {
   "cell_type": "markdown",
   "metadata": {},
   "source": [
    "## The global earthquake catalog\n",
    "\n",
    "Let's use the USGS API to import a global earthquake catalog. Update the start_day and end_day (using year-month-day; e.g. ```'2023-02-06'```) to get a query url that will return earthquakes that occured over the past 10 years."
   ]
  },
  {
   "cell_type": "code",
   "execution_count": null,
   "metadata": {},
   "outputs": [],
   "source": [
    "start_day = ''\n",
    "end_day = ''\n",
    "standard_url = 'https://earthquake.usgs.gov/fdsnws/event/1/query?format=csv&orderby=magnitude'\n",
    "\n",
    "query_url = standard_url + '&starttime=' + start_day + '&endtime=' + end_day + '&minmagnitude=5.0'\n",
    "query_url"
   ]
  },
  {
   "cell_type": "markdown",
   "metadata": {},
   "source": [
    "We can now make a Dataframe called earthquake_data that brings in data from that url."
   ]
  },
  {
   "cell_type": "code",
   "execution_count": null,
   "metadata": {},
   "outputs": [],
   "source": [
    "earthquake_data = pd.read_csv(query_url)\n",
    "earthquake_data.head()"
   ]
  },
  {
   "cell_type": "markdown",
   "metadata": {},
   "source": [
    "### Make a map of these earthquake locations\n",
    "\n",
    "In addition to plotting the earthquake locations, we can plot the location of plate boundaries. I took the plate boundaries provided by the US Geological Survey (USGS) and split them by their categorization into trenches (subduction zones), ridges (spreading centers) and transform (strike-slip boundaries like the San Andreas fault).\n",
    "\n",
    "The code below makes a map where these different plate boundaries are represented by different color lines."
   ]
  },
  {
   "cell_type": "code",
   "execution_count": null,
   "metadata": {},
   "outputs": [],
   "source": [
    "plt.figure(1,(15,15)) # make a big figure \n",
    "\n",
    "ax = plt.axes(projection=ccrs.Robinson(180))\n",
    "ax.set_global()\n",
    "\n",
    "ax.coastlines()\n",
    "ax.gridlines()\n",
    "\n",
    "data = Reader('./data/Plate_Boundaries_transform.shp')\n",
    "ax.add_geometries(data.geometries(), crs=ccrs.PlateCarree(), \n",
    "                  edgecolor='orange', facecolor='none',\n",
    "                  linewidth=3)\n",
    "\n",
    "data = Reader('./data/Plate_Boundaries_trenches.shp')\n",
    "ax.add_geometries(data.geometries(), crs=ccrs.PlateCarree(), \n",
    "                  edgecolor='darkblue', facecolor='none',\n",
    "                  linewidth=3)\n",
    "\n",
    "data = Reader('./data/Plate_Boundaries_ridges.shp')\n",
    "ax.add_geometries(data.geometries(), crs=ccrs.PlateCarree(), \n",
    "                  edgecolor='red', facecolor='none',\n",
    "                  linewidth=3)\n",
    "\n",
    "plt.title('Map of plate boundaries (red=ridge; blue=trench; orange=transform)')\n",
    "# make patches to add to a legend\n",
    "trans = mpatches.Rectangle((0, 0), 1, 1, facecolor=\"orange\")\n",
    "con = mpatches.Rectangle((0, 0), 1, 1, facecolor=\"darkblue\")\n",
    "div = mpatches.Rectangle((0, 0), 1, 1, facecolor=\"red\")\n",
    "labels = ['Transform','Convergent','Divergent']\n",
    "plt.legend([trans, con, div], labels)\n",
    "\n",
    "plt.show()"
   ]
  },
  {
   "cell_type": "markdown",
   "metadata": {},
   "source": [
    "**Make a map where these plate boundaries are shown and the recent earthquake locations are also plotted.**\n",
    "\n",
    "Use the code that is in the code cell above and add code that also plots the earthquake locations in the code cell below. Look at previous notebooks for the plotting function and remember that you can access columns in a pandas dataframe using ```Dataframe_name['column_name']```"
   ]
  },
  {
   "cell_type": "code",
   "execution_count": null,
   "metadata": {},
   "outputs": [],
   "source": []
  },
  {
   "cell_type": "markdown",
   "metadata": {},
   "source": [
    "**Make a map that categorizes earthquakes by magnitude.** \n",
    "\n",
    "Here is my suggestion for how this can be done:\n",
    "- Filter the global earthquake catalog dataframe to make a new dataframe that only has earthquakes between magnitude 5 and 6, another that only has earthquakes between magnitude 6 and 7, etc. Make a map in a separate colors/sizes. A dataframe can be filtered using syntax like this where `dataframe` is the name of the dataframe that has your data and `dataframe_new` being whatever name you want to assign to your new dataframe: \n",
    "\n",
    "A Dataframe can be filtered by multiple conditions like this. Be sure to follow the formatting in terms of the placement of the `()` and `&`:\n",
    "\n",
    "`dataframe_new = dataframe[(dataframe['column_a'] >= 5) & (dataframe['column_a'] < 6)]`\n",
    "\n",
    "In the code cell below, create four filtered dataframes that categorize earthquakes by magnitude:"
   ]
  },
  {
   "cell_type": "code",
   "execution_count": null,
   "metadata": {},
   "outputs": [],
   "source": [
    "earthquakes_mag5_6 = ...\n",
    "earthquakes_mag6_7 = ...\n",
    "earthquakes_mag7_8 = ...\n",
    "earthquakes_mag8_9 = ..."
   ]
  },
  {
   "cell_type": "markdown",
   "metadata": {},
   "source": [
    "Make a map where earthquakes of greater magnitude are plotted with larger symbols. In `plt.scatter` the `s=` parameter can be used to set symbol size. I would recommend making each symbol be twice as large as the previous on (e.g. `s=8` for `earthquakes_mag5` and `s=16` for `earthquakes_mag6`). You should label each."
   ]
  },
  {
   "cell_type": "code",
   "execution_count": null,
   "metadata": {},
   "outputs": [],
   "source": [
    "plt.figure(1,(15,15)) # make a big figure \n",
    "ax = plt.axes(projection=ccrs.Robinson())\n",
    "ax.set_global()\n",
    "\n",
    "ax.coastlines()\n",
    "ax.gridlines()\n",
    "\n",
    "plt.scatter(earthquakes_mag5_6['longitude'],earthquakes_mag5_6['latitude'],\n",
    "            transform=ccrs.PlateCarree(),s=20,label='magnitude 5 to 6')\n",
    "\n",
    "# Add plt.scatter() for the rest of the magnitude dataframes. \n",
    "# Make sure to label them so that they show up in the legend\n",
    "\n",
    "plt.legend()        \n",
    "plt.show()"
   ]
  },
  {
   "cell_type": "markdown",
   "metadata": {},
   "source": [
    "After you have made such a map, answer this question:\n",
    "- *At what type of plate boundaries do the largest earthquakes occur?*\n",
    "\n",
    "**WRITE YOUR ANSWER HERE**\n"
   ]
  },
  {
   "cell_type": "markdown",
   "metadata": {},
   "source": [
    "## Analyze an Earthquake Seismogram\n",
    "\n",
    "An interesting earthquake in 2020 occured 100km SSE of Perryville, Alaska at 55.0683°N 158.5543°W and was a magnitude 7.8 event."
   ]
  },
  {
   "cell_type": "markdown",
   "metadata": {},
   "source": [
    "Below is a map of the earthquake location and the location of the Columbia College, Columbia, CA, USA seismic station that recorded a seismograph we will be analyzing.\n",
    "\n",
    "Go ahead and **add plate boundaries to this map as well.**"
   ]
  },
  {
   "cell_type": "code",
   "execution_count": null,
   "metadata": {},
   "outputs": [],
   "source": [
    "# Earthquake location\n",
    "Earthquake_lat = 55.0683\n",
    "Earthquake_lon = -158.5543\n",
    "\n",
    "# Station Location Columbia College, Columbia, CA, USA\n",
    "station_lat = 38.03455\n",
    "station_lon = -120.38651\n",
    "\n",
    "plt.figure(1,(10,10))\n",
    "\n",
    "ax = plt.axes(projection=ccrs.Orthographic(central_longitude=-130,central_latitude=60))\n",
    "ax.set_global()\n",
    "\n",
    "plt.scatter(Earthquake_lon,Earthquake_lat,s=100,marker='*',\n",
    "            color='red', edgecolor='black',transform=ccrs.PlateCarree())\n",
    "plt.text(Earthquake_lon+5,Earthquake_lat,'Earthquake',fontsize=14,color='red',\n",
    "         transform=ccrs.PlateCarree())\n",
    "\n",
    "plt.scatter(station_lon,station_lat,s=100,marker='^',\n",
    "            color='green', edgecolor='black',transform=ccrs.PlateCarree())\n",
    "plt.text(station_lon+5,station_lat,'Columbia College',fontsize=12,color='green',\n",
    "         transform=ccrs.PlateCarree())\n",
    "\n",
    "plt.plot([Earthquake_lon,station_lon],[Earthquake_lat,station_lat],\n",
    "         color='red',transform=ccrs.Geodetic())\n",
    "\n",
    "ax.coastlines()\n",
    "ax.stock_img()\n",
    "ax.gridlines()\n",
    "\n",
    "plt.show()"
   ]
  },
  {
   "cell_type": "markdown",
   "metadata": {},
   "source": [
    "*At what type of plate boundary did this earthquake occur?*\n",
    "\n",
    "**Write your answer here**\n"
   ]
  },
  {
   "cell_type": "markdown",
   "metadata": {},
   "source": [
    "More geologic context about this quake can be found here: https://www.iris.edu/hq/files/programs/education_and_outreach/retm/tm_200722_alaska/200722_Alaska.pdf"
   ]
  },
  {
   "cell_type": "markdown",
   "metadata": {},
   "source": [
    "### Distance between seismograph and earthquake\n",
    "\n",
    "We can use the Geopy Python package to calculate the distance between the earthquake and the seismic station. The module `distance` of the `geopy` library was  imported at the beginning of this notebook. You can use `distance.distance(location1, location2)` function where each location is (latitude,longitude).\n",
    "\n",
    "You can read more about this function here: https://geopy.readthedocs.io/en/stable/index.html?highlight=distance#module-geopy.distance\n",
    "\n",
    "In the code cell below, define the locations, use the `distance.distance()` function to calculate the distance, and then assign the value (in km) to a variable called `earthquake_seismograph_distance_km`."
   ]
  },
  {
   "cell_type": "code",
   "execution_count": null,
   "metadata": {},
   "outputs": [],
   "source": [
    "seismic_station_location = (...,...)  #define the seismic station location (latitude, longitude)\n",
    "earthquake_location = (...,...) #define the earthquake location (latitude, longitude)\n",
    "earthquake_seismograph_distance = distance.distance(seismic_station_location, earthquake_location)\n",
    "earthquake_seismograph_distance_km = earthquake_seismograph_distance.km\n",
    "print(earthquake_seismograph_distance_km)"
   ]
  },
  {
   "cell_type": "markdown",
   "metadata": {},
   "source": [
    "### Load a Seismogram of this Earthquake"
   ]
  },
  {
   "cell_type": "markdown",
   "metadata": {},
   "source": [
    "Let's load the .csv (Comma Separated Variable) data file of this seismogram as recorded at the Columbia College, Columbia, CA, USA seismic station. Samples were taken every 0.025 seconds (40 Hz) and the record starts 60 seconds before the arrival of the first wave which is called the P wave. https://www.iris.edu/app/station_monitor/#2020-07-22T06:12:44/BK-CMB/trace/BK-CMB|11273635"
   ]
  },
  {
   "cell_type": "code",
   "execution_count": null,
   "metadata": {},
   "outputs": [],
   "source": [
    "seismogram = pd.read_csv('./data/BK.CMB.00.BHZ.Q.2020-07-22T061756.019538.csv',header=9,names=['Time','Sample'])\n",
    "seismogram.head()"
   ]
  },
  {
   "cell_type": "markdown",
   "metadata": {},
   "source": [
    "The `seismogram['Sample']` column is a time series of the velocity of the ground motion at the location of the seismic station due to this earthquake. Assign this column to the variable `velocity` in the code cell below."
   ]
  },
  {
   "cell_type": "code",
   "execution_count": null,
   "metadata": {},
   "outputs": [],
   "source": [
    "velocity = "
   ]
  },
  {
   "cell_type": "markdown",
   "metadata": {},
   "source": [
    "Looking at the seismograph dataframe, we can see that the `seismogram['Time']` column is a complicated looking string. We can use the function `pd.to_datetime()` to convert this string to a pandas datetime object. We'll see more datetime features in the future, they are pretty great."
   ]
  },
  {
   "cell_type": "code",
   "execution_count": null,
   "metadata": {},
   "outputs": [],
   "source": [
    "time = pd.to_datetime(seismogram['Time'])"
   ]
  },
  {
   "cell_type": "markdown",
   "metadata": {},
   "source": [
    "Let's plot the seismogram with `time` on the x-axis and `velocity` on the y-axis.  Fill in the `...` in the code cell below to make the plot and label the axes."
   ]
  },
  {
   "cell_type": "code",
   "execution_count": null,
   "metadata": {},
   "outputs": [],
   "source": [
    "import warnings #There is a warning regarding the AutoDateLocator that we don't need to worry about\n",
    "warnings.filterwarnings(\"ignore\") #This code will suppress the warning\n",
    "\n",
    "fig = plt.figure(1,(10,5))\n",
    "ax = fig.add_subplot()\n",
    "plt.plot(...,...)\n",
    "plt.xlim(min(time),max(time))\n",
    "\n",
    "locator = mdates.AutoDateLocator(minticks=20)\n",
    "formatter = mdates.ConciseDateFormatter(locator)\n",
    "ax.xaxis.set_major_locator(locator)\n",
    "ax.xaxis.set_major_formatter(formatter)\n",
    "plt.xlabel(...)\n",
    "plt.ylabel(...)\n",
    "plt.title('Seismogram of 2020-07-22 Alaskan earthquake recorded at Columbia College, CA')\n",
    "\n",
    "ax.grid(True)\n",
    "plt.show()"
   ]
  },
  {
   "cell_type": "markdown",
   "metadata": {},
   "source": [
    "Seismographs record the arrival of multiple types of waves. P (primary) waves are compressional waves that arrive first. S (secondary/shear) waves are shear waves that arrive next as illustrated in the example seismograph below. Following the P and S waves are the high amplitude surface waves:\n",
    "\n",
    "<img src=\"./figures/seis_wave_travel_time.png\">\n",
    "\n",
    "The seismograph record we are looking at starts approximately 1 minute before the arrival of the P wave. \n",
    "\n",
    "Let's define the p time as `p_wave_time` and set it to be 1.05 minutes"
   ]
  },
  {
   "cell_type": "code",
   "execution_count": null,
   "metadata": {},
   "outputs": [],
   "source": [
    "p_wave_time = 1.05 #minutes                         "
   ]
  },
  {
   "cell_type": "markdown",
   "metadata": {},
   "source": [
    "The code cell below is an **incorrect** s wave arrival time (in minutes relative to the start of the record).\n",
    "It currently notes the arrival of the surface waves, but you will want it to be the arrival of the S wave.\n",
    "\n",
    "**Use this value for the moment and generate the plot below. Then come back and adjust it to be a better S wave pick**"
   ]
  },
  {
   "cell_type": "code",
   "execution_count": null,
   "metadata": {},
   "outputs": [],
   "source": [
    "s_wave_time = 9.1"
   ]
  },
  {
   "cell_type": "markdown",
   "metadata": {},
   "source": [
    "The code below assigns the arrival time of the P wave and the S wave and does conversions related to time. You can run this code without modifications."
   ]
  },
  {
   "cell_type": "code",
   "execution_count": null,
   "metadata": {},
   "outputs": [],
   "source": [
    "#find the sample rate (sample interval)\n",
    "#Using mdates.date2num converts the complex time variable to the number of days\n",
    "factor=24*60*60                                                   #this is the number of seconds in a day\n",
    "dt=(mdates.date2num(time[1])-mdates.date2num(time[0]))*factor     #sample rate is just difference between two samples\n",
    "print(f'Sample rate={dt:.3f} seconds/sample')\n",
    "\n",
    "#convert the ptime, and stime to samples\n",
    "psamp=np.int64(p_wave_time*60/dt)\n",
    "ssamp=np.int64(s_wave_time*60/dt)"
   ]
  },
  {
   "cell_type": "markdown",
   "metadata": {},
   "source": [
    "Using the annotations, we can indicate when the P wave arrived and when the S wave arrived on the seismograph. Take your code from above that plots the seismograph and add this code to also plot annotations:\n",
    "\n",
    "```\n",
    "ax.annotate('P wave', (mdates.date2num(time[psamp]), velocity[psamp]), xytext=(-10, 35), \n",
    "            textcoords='offset points', arrowprops=dict(arrowstyle='-|>'))\n",
    "ax.annotate('S wave', (mdates.date2num(time[ssamp]), velocity[ssamp]), xytext=(-10, 35), \n",
    "            textcoords='offset points', arrowprops=dict(arrowstyle='-|>'))\n",
    "```\n"
   ]
  },
  {
   "cell_type": "code",
   "execution_count": null,
   "metadata": {},
   "outputs": [],
   "source": [
    "# Use this code cell to plot the seismograph with annotated P and S wave arrivals\n"
   ]
  },
  {
   "cell_type": "markdown",
   "metadata": {},
   "source": [
    "Once you have made this plot, go back up and adjust the S wave arrival time (which is with respect to the start of the record in fractional minutes). Keep adjusting that value and moving you S wave arrival pick until it as at a spot in the record that you feel happy with. You should be looking for when the record transitions from the amplitude charecteristic of the P wave to a higher amplitude (but an amplitude that is still significantly less than that associated with the surface waves). Look at the example above for guidance.\n",
    "\n",
    "**Keep adjusting and rerunning the code until you are happy with the S wave pick**"
   ]
  },
  {
   "cell_type": "markdown",
   "metadata": {},
   "source": [
    "Once you have your s wave pick subtract the `p_wave_time` from the `s_wave_time` and assign that difference to a variable ```seismogram_s_p_difference``` in the code cell below:"
   ]
  },
  {
   "cell_type": "code",
   "execution_count": null,
   "metadata": {},
   "outputs": [],
   "source": []
  },
  {
   "cell_type": "markdown",
   "metadata": {},
   "source": [
    "## Estimate distance based on S-P time difference\n",
    "\n",
    "The difference in P and S wave arrival times can be used to determine the distance from the recording station to the earthquake using a travel time curve if we know the velocities of the waves through the Earth.  So first we need to know how these two waves behave — particularly their velocities. Check out this short video demonstration:\n",
    "\n",
    "https://www.iris.edu/hq/inclass/uploads/videos/A_6_seismictraveltimeirisbounc.mp4\n",
    "\n",
    "https://www.iris.edu/hq/inclass/animation/traveltime_curves_how_they_are_created\n",
    "\n",
    "Calculated travel times based on a standard earth models are in the the data folder as `arrival_times.csv`. The time unit is minutes. Let's import them as a dataframe."
   ]
  },
  {
   "cell_type": "code",
   "execution_count": null,
   "metadata": {},
   "outputs": [],
   "source": [
    "travel_times = pd.read_csv('./data/arrival_times.csv')\n",
    "travel_times.head()"
   ]
  },
  {
   "cell_type": "markdown",
   "metadata": {},
   "source": [
    "We can make a plot of the travel times."
   ]
  },
  {
   "cell_type": "code",
   "execution_count": null,
   "metadata": {},
   "outputs": [],
   "source": [
    "fig = plt.figure(1,(6,6))\n",
    "plt.plot(travel_times['degrees_from_quake'],travel_times['P_wave_time'],label='P waves')\n",
    "plt.plot(travel_times['degrees_from_quake'],travel_times['S_wave_time'],label='S waves')\n",
    "plt.xlabel('Distance (degrees)', fontsize=14)\n",
    "plt.ylabel('Time (minutes)', fontsize=14)\n",
    "plt.legend()\n",
    "plt.grid()\n",
    "plt.show()"
   ]
  },
  {
   "cell_type": "markdown",
   "metadata": {},
   "source": [
    "Now we need the S-P time from the model. Make a new column in the travel_times dataframe that is the difference between the two times. In pandas you can make a new column that is a calculation of other columns. So if you had a column called 'column_b' and one called 'column_a' you could make a new column like this:\n",
    "\n",
    "```travel_times['new_column'] = travel_times['column_b'] - travel_times['column_a']```\n",
    "\n",
    "Go ahead and make a new column called ```'S-P_difference'``` that is the difference between the S wave time and the P wave time. Then make a plot of it vs. distance from earthquake."
   ]
  },
  {
   "cell_type": "code",
   "execution_count": null,
   "metadata": {},
   "outputs": [],
   "source": [
    "# Calculate the S-P difference\n"
   ]
  },
  {
   "cell_type": "code",
   "execution_count": null,
   "metadata": {},
   "outputs": [],
   "source": [
    "# Make a plot of S-P difference vs distance\n"
   ]
  },
  {
   "cell_type": "markdown",
   "metadata": {},
   "source": [
    "Your picks of P and S wave arrival times above imply a distance between the earthquake location and the seismograph location.\n",
    "\n",
    "Let's print the full travel_times Dataframe that now has the 'S-P_difference' column. Find the row that corresponds to the time difference you calculated between your P wave and S wave time picks (the `seismogram_s_p_difference` you calculated above)."
   ]
  },
  {
   "cell_type": "code",
   "execution_count": null,
   "metadata": {},
   "outputs": [],
   "source": [
    "print(travel_times.to_string())"
   ]
  },
  {
   "cell_type": "markdown",
   "metadata": {},
   "source": [
    "Assign the angular distance implied by the S wave and P wave time difference to a variable called `ang_deg`"
   ]
  },
  {
   "cell_type": "code",
   "execution_count": null,
   "metadata": {},
   "outputs": [],
   "source": [
    "ang_deg = "
   ]
  },
  {
   "cell_type": "markdown",
   "metadata": {},
   "source": [
    "You can then convert this angular distance between the earthquake and the seismic station with the equation: \n",
    "\n",
    "$d = r \\theta $ \n",
    "\n",
    "where $d$ is the distance between the two points in kilometers, $r$ is the radius (radius of Earth is 6371 kilometers), and $\\theta$ is the angular separation between the points in radians. "
   ]
  },
  {
   "cell_type": "code",
   "execution_count": null,
   "metadata": {},
   "outputs": [],
   "source": [
    "radius = 6371; # earth's radius in kilometers\n",
    "ang_rad = np.deg2rad(ang_deg) # convert degrees to radians\n",
    "\n",
    "### Write code here that calculates d using ang_rad and radius\n",
    "estimated_distance = "
   ]
  },
  {
   "cell_type": "markdown",
   "metadata": {},
   "source": [
    "Now print the `estimated_distance` and compare to the `earthquake_seismograph_distance_km` that you calculated above. Calculate the percentage difference between the `estimated_distance` and the `earthquake_seismograph_distance_km`:"
   ]
  },
  {
   "cell_type": "code",
   "execution_count": null,
   "metadata": {},
   "outputs": [],
   "source": []
  },
  {
   "cell_type": "markdown",
   "metadata": {},
   "source": [
    "How does the estimate of distance compare to the distance you calculated using the `geopy` `distance.distance()`? \n",
    "\n",
    "**Write answer here**\n",
    "\n",
    "If they are very different you may want to reconsider your s wave arrival time pick and recompute."
   ]
  },
  {
   "cell_type": "markdown",
   "metadata": {},
   "source": [
    "## Locating an Earthquake\n",
    "\n",
    "The earthquake locations that we used in the first part of the assignment are determined thorugh computing the distance from the earthquake for at least three stations as illustrated below. \n",
    "\n",
    "<img src=\"./figures/IRIS_eq_tri.png\">"
   ]
  },
  {
   "cell_type": "markdown",
   "metadata": {},
   "source": [
    "### Turn in this notebook\n",
    "\n",
    "Export your completed notebook to as an html file and upload to bcourses."
   ]
  }
 ],
 "metadata": {
  "kernelspec": {
   "display_name": "Python 3 (ipykernel)",
   "language": "python",
   "name": "python3"
  },
  "language_info": {
   "codemirror_mode": {
    "name": "ipython",
    "version": 3
   },
   "file_extension": ".py",
   "mimetype": "text/x-python",
   "name": "python",
   "nbconvert_exporter": "python",
   "pygments_lexer": "ipython3",
   "version": "3.9.12"
  },
  "vscode": {
   "interpreter": {
    "hash": "49a1a129dd8612579fe446c948a331f966f8bfeafeb0b6d106f0e28724912c2b"
   }
  }
 },
 "nbformat": 4,
 "nbformat_minor": 4
}
