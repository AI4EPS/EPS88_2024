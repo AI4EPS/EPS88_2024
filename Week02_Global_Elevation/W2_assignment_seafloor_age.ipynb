{
 "cells": [
  {
   "cell_type": "markdown",
   "metadata": {},
   "source": [
    "# Week 2 Assignment: Age of the seafloor [20 points]\n",
    "\n",
    "**Our goals:**\n",
    "- Load and visualize global seafloor age.\n",
    "- Use global seafloor age distribution to make inferences about plate tectonic processes."
   ]
  },
  {
   "cell_type": "markdown",
   "metadata": {},
   "source": [
    "## Setup\n",
    "\n",
    "Run this cell to import the packages you will need."
   ]
  },
  {
   "cell_type": "code",
   "execution_count": 1,
   "metadata": {},
   "outputs": [],
   "source": [
    "import numpy as np\n",
    "import matplotlib.pyplot as plt\n",
    "import pandas as pd\n",
    "from matplotlib import cm\n",
    "from cartopy import config\n",
    "import cartopy.crs as ccrs"
   ]
  },
  {
   "cell_type": "markdown",
   "metadata": {},
   "source": [
    "### Load Seafloor Age dataset\n",
    "\n",
    "We will load the data as a Pandas dataframe using the `pd.read_csv` function.\n",
    "\n",
    "- column 1 is longitude in degrees\n",
    "- column 2 is latitude in degrees\n",
    "- column 3 is seafloor age in million years\n",
    "\n",
    "After we load the data into a pandas Dataframe and assign it the name `seafloor_age_data` we can look at the first 5 rows by applying the function `.head()` to the `seafloor_age_data` Dataframe."
   ]
  },
  {
   "cell_type": "code",
   "execution_count": 2,
   "metadata": {},
   "outputs": [
    {
     "data": {
      "text/html": [
       "<div>\n",
       "<style scoped>\n",
       "    .dataframe tbody tr th:only-of-type {\n",
       "        vertical-align: middle;\n",
       "    }\n",
       "\n",
       "    .dataframe tbody tr th {\n",
       "        vertical-align: top;\n",
       "    }\n",
       "\n",
       "    .dataframe thead th {\n",
       "        text-align: right;\n",
       "    }\n",
       "</style>\n",
       "<table border=\"1\" class=\"dataframe\">\n",
       "  <thead>\n",
       "    <tr style=\"text-align: right;\">\n",
       "      <th></th>\n",
       "      <th>longitude</th>\n",
       "      <th>latitude</th>\n",
       "      <th>age_Ma</th>\n",
       "    </tr>\n",
       "  </thead>\n",
       "  <tbody>\n",
       "    <tr>\n",
       "      <th>0</th>\n",
       "      <td>-180.0</td>\n",
       "      <td>90.0</td>\n",
       "      <td>55.569</td>\n",
       "    </tr>\n",
       "    <tr>\n",
       "      <th>1</th>\n",
       "      <td>-179.8</td>\n",
       "      <td>90.0</td>\n",
       "      <td>55.568</td>\n",
       "    </tr>\n",
       "    <tr>\n",
       "      <th>2</th>\n",
       "      <td>-179.6</td>\n",
       "      <td>90.0</td>\n",
       "      <td>55.568</td>\n",
       "    </tr>\n",
       "    <tr>\n",
       "      <th>3</th>\n",
       "      <td>-179.4</td>\n",
       "      <td>90.0</td>\n",
       "      <td>55.569</td>\n",
       "    </tr>\n",
       "    <tr>\n",
       "      <th>4</th>\n",
       "      <td>-179.2</td>\n",
       "      <td>90.0</td>\n",
       "      <td>55.569</td>\n",
       "    </tr>\n",
       "  </tbody>\n",
       "</table>\n",
       "</div>"
      ],
      "text/plain": [
       "   longitude  latitude  age_Ma\n",
       "0     -180.0      90.0  55.569\n",
       "1     -179.8      90.0  55.568\n",
       "2     -179.6      90.0  55.568\n",
       "3     -179.4      90.0  55.569\n",
       "4     -179.2      90.0  55.569"
      ]
     },
     "execution_count": 2,
     "metadata": {},
     "output_type": "execute_result"
    }
   ],
   "source": [
    "seafloor_age_data = pd.read_csv('data/age.csv')\n",
    "seafloor_age_data.head()"
   ]
  },
  {
   "cell_type": "markdown",
   "metadata": {},
   "source": [
    "Pandas dataframes are super useful and we will use them a lot. Watch this video for an introduction to the pandas library."
   ]
  },
  {
   "cell_type": "code",
   "execution_count": 3,
   "metadata": {},
   "outputs": [
    {
     "data": {
      "image/jpeg": "[encoded data removed]",
      "text/html": [
       "\n",
       "        <iframe\n",
       "            width=\"1000\"\n",
       "            height=\"500\"\n",
       "            src=\"https://www.youtube.com/embed/XDAnFZqJDvI\"\n",
       "            frameborder=\"0\"\n",
       "            allowfullscreen\n",
       "            \n",
       "        ></iframe>\n",
       "        "
      ],
      "text/plain": [
       "<IPython.lib.display.YouTubeVideo at 0x7f88f00b5ca0>"
      ]
     },
     "execution_count": 3,
     "metadata": {},
     "output_type": "execute_result"
    }
   ],
   "source": [
    "from IPython.display import YouTubeVideo\n",
    "# Wrangling Data with Pandas\n",
    "YouTubeVideo('XDAnFZqJDvI', width=\"1000\", height=\"500\")"
   ]
  },
  {
   "cell_type": "markdown",
   "metadata": {},
   "source": [
    "As Yufeng introduced, the .describe function provides summary statistics on a dataframe. Our dataframe is called `seafloor_age_data`. Just like we applied the function `.head()` to the dataframe after we imported it, the function `describe` can be applied to the dataframe to get this summary. Do this in the cell below."
   ]
  },
  {
   "cell_type": "code",
   "execution_count": null,
   "metadata": {},
   "outputs": [],
   "source": [
    "#Apply the .describe() function to the Dataframe here\n"
   ]
  },
  {
   "cell_type": "markdown",
   "metadata": {},
   "source": [
    "**How old is the oldest seafloor in comparison with the age of Earth and why is there such a large difference?** [5 points]"
   ]
  },
  {
   "cell_type": "markdown",
   "metadata": {},
   "source": [
    "_Write your answer here._"
   ]
  },
  {
   "cell_type": "markdown",
   "metadata": {},
   "source": [
    "### Plot a histogram of seafloor age [5 points]\n",
    "\n",
    "#### Access data in a single column\n",
    "\n",
    "As Yufeng described in the video, the values of a particular column within a dataframe can be accessed using bracket notation. So to just get the age values, we can use the notation `seafloor_age_data['age_Ma']` as in the cell below:"
   ]
  },
  {
   "cell_type": "code",
   "execution_count": null,
   "metadata": {},
   "outputs": [],
   "source": [
    "seafloor_age_data['age_Ma']"
   ]
  },
  {
   "cell_type": "markdown",
   "metadata": {},
   "source": [
    "We can use `seafloor_age_data['age_Ma']` as input to a plot such as a histogram. In class, we plotted a histogram of global elevation. Here I want you to plot a histogram of seafloor age. Label the axes of your plot and give it a title."
   ]
  },
  {
   "cell_type": "code",
   "execution_count": null,
   "metadata": {},
   "outputs": [],
   "source": [
    "#Make a histogram here\n"
   ]
  },
  {
   "cell_type": "markdown",
   "metadata": {},
   "source": [
    "### Seafloor Age Map [5 points for map; 5 points for question responses]"
   ]
  },
  {
   "cell_type": "markdown",
   "metadata": {},
   "source": [
    "To help make the map, let's make the columns of the Pandas dataframe be numpy arrays."
   ]
  },
  {
   "cell_type": "code",
   "execution_count": null,
   "metadata": {},
   "outputs": [],
   "source": [
    "age_longitude = np.asarray(age_data.Longitude)\n",
    "age_latitude = np.asarray(age_data.Latitude)\n",
    "age = np.asarray(age_data.Age_Myr)"
   ]
  },
  {
   "cell_type": "markdown",
   "metadata": {},
   "source": [
    "As we did in-class, we need to reshape of arrays of data into grids in order to map. Reshape the data into (901,1801) sized grids.\n",
    "\n",
    "Replace the ...'s below to do so."
   ]
  },
  {
   "cell_type": "code",
   "execution_count": null,
   "metadata": {},
   "outputs": [],
   "source": [
    "age_grid = age.reshape(...)\n",
    "age_long_grid = age_longitude.reshape(...)\n",
    "age_lat_grid = age_latitude.reshape(...)"
   ]
  },
  {
   "cell_type": "markdown",
   "metadata": {},
   "source": [
    "Use the grids of latitude and longtitude you just made to plot a map of seafloor age.\n",
    "\n",
    "Replace the ... below in `plt.contourf()` in order to make such a map."
   ]
  },
  {
   "cell_type": "code",
   "execution_count": null,
   "metadata": {},
   "outputs": [],
   "source": [
    "plt.figure(1,(15,15))\n",
    "ax = plt.axes(projection=ccrs.Robinson())\n",
    "ax.set_global()\n",
    "plt.contourf(...)\n",
    "\n",
    "ax.coastlines()\n",
    "ax.gridlines()\n",
    "\n",
    "color_ax = plt.axes([0.95, 0.3, 0.05, 0.35])\n",
    "plt.colorbar(cax=color_ax) \n",
    "plt.title('Age, Myr'); \n",
    "\n",
    "plt.show()"
   ]
  },
  {
   "cell_type": "markdown",
   "metadata": {},
   "source": [
    "What patterns do you observe? Where is the youngest seafloor in relation to the seafloor ridges we observed in our map of topography? Where is the oldest seafloor? \n",
    "\n",
    "_Write your answer here._\n",
    "\n",
    "Where did the older seafloor go?\n",
    "\n",
    "_Write your answer here._"
   ]
  },
  {
   "cell_type": "markdown",
   "metadata": {},
   "source": [
    "### Turn in this notebook\n",
    "\n",
    "Save your completed notebook as an html file and then <font color=goldenrod>**_upload it to bCourses._**</font>"
   ]
  }
 ],
 "metadata": {
  "kernelspec": {
   "display_name": "Python 3 (ipykernel)",
   "language": "python",
   "name": "python3"
  },
  "language_info": {
   "codemirror_mode": {
    "name": "ipython",
    "version": 3
   },
   "file_extension": ".py",
   "mimetype": "text/x-python",
   "name": "python",
   "nbconvert_exporter": "python",
   "pygments_lexer": "ipython3",
   "version": "3.8.15"
  }
 },
 "nbformat": 4,
 "nbformat_minor": 4
}
